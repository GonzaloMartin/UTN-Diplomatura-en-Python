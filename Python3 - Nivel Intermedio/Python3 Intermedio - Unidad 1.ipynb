{
  "cells": [
    {
      "cell_type": "markdown",
      "metadata": {
        "id": "view-in-github",
        "colab_type": "text"
      },
      "source": [
        "<a href=\"https://colab.research.google.com/github/GonzaloMartin/UTN-Diplomatura-en-Python/blob/main/Python3%20-%20Nivel%20Intermedio/Python3%20Intermedio%20-%20Unidad%201.ipynb\" target=\"_parent\"><img src=\"https://colab.research.google.com/assets/colab-badge.svg\" alt=\"Open In Colab\"/></a>"
      ]
    },
    {
      "cell_type": "markdown",
      "metadata": {
        "id": "oFKlguwdWaxj"
      },
      "source": [
        "# DIPLOMATURA EN PYTHON\n",
        "\n",
        "### UNIDAD DIDÁCTICA 1\n",
        "\n",
        "- Módulo I – Nivel Intermedio.\n",
        "\n",
        "#### _Resueltos de [@GonzaloMartin](https://github.com/GonzaloMartin)._"
      ]
    },
    {
      "cell_type": "markdown",
      "source": [
        "## Práctica:\n",
        "\n"
      ],
      "metadata": {
        "id": "IvT_gsM8zlis"
      }
    },
    {
      "cell_type": "markdown",
      "source": [
        "### Ejercicio:\n",
        "\n",
        "Tomando en cuenta la app del nivel inicial, separarla en módulos de vista y modelo."
      ],
      "metadata": {
        "id": "i2Rk2Jd2CE7p"
      }
    },
    {
      "cell_type": "markdown",
      "source": [
        "### Resolución:\n",
        "\n",
        "vistas.py"
      ],
      "metadata": {
        "id": "6y49XEv_wicK"
      }
    },
    {
      "cell_type": "code",
      "source": [
        "from tkinter import *\n",
        "from tkinter.messagebox import *\n",
        "from tkinter import ttk\n",
        "from modelos import conexion, crear_tabla, alta, consultar, borrar, modificar, actualizar_treeview\n",
        "\n",
        "root = Tk()\n",
        "root.title(\"Tarea\")\n",
        "\n",
        "titulo = Label(root, text=\"Ingrese sus datos\", bg=\"DarkOrchid3\", fg=\"thistle1\", height=1, width=60)\n",
        "titulo.grid(row=0, column=0, columnspan=4, padx=1, pady=1, sticky=W+E)\n",
        "\n",
        "producto = Label(root, text=\"Producto\")\n",
        "producto.grid(row=1, column=0, sticky=W)\n",
        "cantidad=Label(root, text=\"Cantidad\")\n",
        "cantidad.grid(row=2, column=0, sticky=W)\n",
        "precio=Label(root, text=\"Precio\")\n",
        "precio.grid(row=3, column=0, sticky=W)\n",
        "\n",
        "a_val, b_val, c_val = StringVar(), DoubleVar(), DoubleVar()\n",
        "w_ancho = 20\n",
        "\n",
        "entrada1 = Entry(root, textvariable = a_val, width = w_ancho)\n",
        "entrada1.grid(row = 1, column = 1)\n",
        "entrada2 = Entry(root, textvariable = b_val, width = w_ancho)\n",
        "entrada2.grid(row = 2, column = 1)\n",
        "entrada3 = Entry(root, textvariable = c_val, width = w_ancho)\n",
        "entrada3.grid(row = 3, column = 1)\n",
        "\n",
        "# TreeView\n",
        "tree = ttk.Treeview(root)\n",
        "tree[\"columns\"]=(\"col1\", \"col2\", \"col3\")\n",
        "tree.column(\"#0\", width=90, minwidth=50, anchor=W)\n",
        "tree.column(\"col1\", width=112, minwidth=80)\n",
        "tree.column(\"col2\", width=112, minwidth=80)\n",
        "tree.column(\"col3\", width=112, minwidth=80)\n",
        "tree.heading(\"#0\", text=\"ID\")\n",
        "tree.heading(\"col1\", text=\"Producto\")\n",
        "tree.heading(\"col2\", text=\"Cantidad\")\n",
        "tree.heading(\"col3\", text=\"Precio\")\n",
        "tree.grid(row=10, column=0, columnspan=4)\n",
        "\n",
        "boton_alta=Button(root, text=\"Alta\", command=lambda:alta(a_val.get(), b_val.get(), c_val.get(), tree))\n",
        "boton_alta.grid(row=1, column=2, sticky=N+S+E+W)\n",
        "\n",
        "boton_borrar=Button(root, text=\"Borrar\", command=lambda:borrar(tree))\n",
        "boton_borrar.grid(row=2, column=2, sticky=N+S+E+W)\n",
        "\n",
        "boton_modificar = Button(root, text=\"Modificar\", command=lambda: modificar(tree, a_val, b_val, c_val))\n",
        "boton_modificar.grid(row=3, column=2, sticky=N+S+E+W)\n",
        "\n",
        "boton_consulta=Button(root, text=\"Consultar\", command=lambda:consultar())\n",
        "boton_consulta.grid(row=6, column=2, sticky=N+S+E+W)\n",
        "\n",
        "actualizar_treeview(tree)\n",
        "root.mainloop()"
      ],
      "metadata": {
        "id": "d3n8AOaGBMyV"
      },
      "execution_count": null,
      "outputs": []
    },
    {
      "cell_type": "markdown",
      "source": [
        "modelos.py"
      ],
      "metadata": {
        "id": "XVD4h_hexbCR"
      }
    },
    {
      "cell_type": "code",
      "source": [
        "import sqlite3\n",
        "import re\n",
        "\n",
        "def conexion():\n",
        "    con = sqlite3.connect(\"mibase.db\")\n",
        "    return con\n",
        "\n",
        "def crear_tabla():\n",
        "    con = conexion()\n",
        "    cursor = con.cursor()\n",
        "\n",
        "    cursor.execute(\"SELECT name FROM sqlite_master WHERE type='table' AND name='productos';\")\n",
        "    table_exists = cursor.fetchone()\n",
        "\n",
        "    if not table_exists:\n",
        "        sql = \"\"\"CREATE TABLE productos\n",
        "                (id INTEGER PRIMARY KEY AUTOINCREMENT,\n",
        "                producto varchar(20) NOT NULL,\n",
        "                cantidad real,\n",
        "                precio real)\n",
        "        \"\"\"\n",
        "\n",
        "        cursor.execute(sql)\n",
        "        con.commit()\n",
        "        print(\"Tabla creada\")\n",
        "\n",
        "try:\n",
        "    conexion()\n",
        "    crear_tabla()\n",
        "except Exception as e:\n",
        "    print(\"Error:\", e)\n",
        "\n",
        "\n",
        "def alta(producto, cantidad, precio, tree):\n",
        "    cadena = producto\n",
        "    patron=\"^[A-Za-záéíóú]*$\"  #regex para el campo cadena\n",
        "    if(re.match(patron, cadena)):\n",
        "        print(producto, cantidad, precio)\n",
        "        con=conexion()\n",
        "        cursor=con.cursor()\n",
        "        data=(producto, cantidad, precio)\n",
        "        sql=\"INSERT INTO productos(producto, cantidad, precio) VALUES(?, ?, ?)\"\n",
        "        cursor.execute(sql, data)\n",
        "        con.commit()\n",
        "        print(\"Estoy en alta todo ok\")\n",
        "        actualizar_treeview(tree)\n",
        "    else:\n",
        "        print(\"error en campo producto\")\n",
        "\n",
        "\n",
        "def consultar():\n",
        "    con = conexion()\n",
        "    cursor = con.cursor()\n",
        "    sql = \"SELECT * FROM productos ORDER BY id ASC\"\n",
        "    datos = cursor.execute(sql)\n",
        "\n",
        "    print(\"Consulta:\")\n",
        "    resultado = datos.fetchall()\n",
        "    for fila in resultado:\n",
        "        print(fila)\n",
        "\n",
        "\n",
        "def borrar(tree):\n",
        "    valor = tree.selection()\n",
        "    print(\"Borando...\")\n",
        "    print(valor)       #('I005',)\n",
        "    item = tree.item(valor)\n",
        "    print(item)        #{'text': 'I005', 'image': '', 'values': ['I005', 'Pantalon', '2', '20.0'], 'open': 0, 'tags': ''}\n",
        "    print(item['text'])     #I005\n",
        "    mi_id = item['text']\n",
        "\n",
        "    con=conexion()\n",
        "    cursor=con.cursor()\n",
        "    data = (mi_id,)\n",
        "    sql=\"DELETE FROM productos WHERE id = ?;\"\n",
        "    cursor.execute(sql, data)\n",
        "    con.commit()\n",
        "    tree.delete(valor)\n",
        "\n",
        "\n",
        "def actualizar_treeview(mitreview):\n",
        "    records = mitreview.get_children()\n",
        "    for element in records:\n",
        "        mitreview.delete(element)\n",
        "\n",
        "    sql = \"SELECT * FROM productos ORDER BY id ASC\"\n",
        "    con = conexion()\n",
        "    cursor = con.cursor()\n",
        "    datos = cursor.execute(sql)\n",
        "\n",
        "    resultado = datos.fetchall()\n",
        "    for fila in resultado:\n",
        "        mitreview.insert('', 0, text=fila[0], values=(fila[1], fila[2], fila[3]))\n",
        "\n",
        "\n",
        "def modificar(tree, producto, cantidad, precio):\n",
        "    seleccion = tree.selection()\n",
        "\n",
        "    if not seleccion:\n",
        "        print(\"Seleccione un elemento para modificar.\")\n",
        "        return\n",
        "\n",
        "    nuevo_producto = producto.get()\n",
        "    nueva_cantidad = cantidad.get()\n",
        "    nuevo_precio = precio.get()\n",
        "\n",
        "    for item_id in seleccion:\n",
        "        if tree.exists(item_id):\n",
        "            tree.item(item_id, values=(nuevo_producto, nueva_cantidad, nuevo_precio))\n",
        "\n",
        "            item = tree.item(item_id)\n",
        "            mi_id = item['text']\n",
        "\n",
        "            con = conexion()\n",
        "            cursor = con.cursor()\n",
        "            data = (nuevo_producto, nueva_cantidad, nuevo_precio, mi_id)\n",
        "            sql = \"UPDATE productos SET producto=?, cantidad=?, precio=? WHERE id=?\"\n",
        "            cursor.execute(sql, data)\n",
        "            con.commit()\n",
        "\n",
        "            print(\"Elemento modificado correctamente.\")\n",
        "        else:\n",
        "            print(f\"El elemento con ID {item_id} no se encuentra en el Treeview.\")"
      ],
      "metadata": {
        "id": "IucmBChaxcYP"
      },
      "execution_count": null,
      "outputs": []
    },
    {
      "cell_type": "markdown",
      "source": [
        "### Output:\n",
        "\n",
        "Vista del IDE con la vista y el modelo, la consola, el formulario y la base de datos:\n",
        "\n",
        "<img src=\"https://raw.githubusercontent.com/GonzaloMartin/UTN-Diplomatura-en-Python/main/assets/P2-U1-Tarea1.PNG\">"
      ],
      "metadata": {
        "id": "40SxrQgFl3Uo"
      }
    }
  ],
  "metadata": {
    "kernelspec": {
      "display_name": "Python 3 (ipykernel)",
      "language": "python",
      "name": "python3"
    },
    "language_info": {
      "codemirror_mode": {
        "name": "ipython",
        "version": 3
      },
      "file_extension": ".py",
      "mimetype": "text/x-python",
      "name": "python",
      "nbconvert_exporter": "python",
      "pygments_lexer": "ipython3",
      "version": "3.11.5"
    },
    "colab": {
      "provenance": [],
      "toc_visible": true,
      "include_colab_link": true
    }
  },
  "nbformat": 4,
  "nbformat_minor": 0
}