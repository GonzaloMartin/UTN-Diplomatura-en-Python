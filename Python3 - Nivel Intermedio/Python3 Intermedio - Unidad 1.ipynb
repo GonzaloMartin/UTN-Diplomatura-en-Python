{
  "cells": [
    {
      "cell_type": "markdown",
      "metadata": {
        "id": "view-in-github",
        "colab_type": "text"
      },
      "source": [
        "<a href=\"https://colab.research.google.com/github/GonzaloMartin/UTN-Diplomatura-en-Python/blob/main/Python3%20-%20Nivel%20Intermedio/Python3%20Intermedio%20-%20Unidad%201.ipynb\" target=\"_parent\"><img src=\"https://colab.research.google.com/assets/colab-badge.svg\" alt=\"Open In Colab\"/></a>"
      ]
    },
    {
      "cell_type": "markdown",
      "metadata": {
        "id": "oFKlguwdWaxj"
      },
      "source": [
        "# DIPLOMATURA EN PYTHON\n",
        "\n",
        "### UNIDAD DIDÁCTICA 1\n",
        "\n",
        "- Módulo I – Nivel Intermedio.\n",
        "\n",
        "#### _Resueltos de [@GonzaloMartin](https://github.com/GonzaloMartin)._"
      ]
    },
    {
      "cell_type": "markdown",
      "source": [
        "## Práctica:\n",
        "\n"
      ],
      "metadata": {
        "id": "IvT_gsM8zlis"
      }
    },
    {
      "cell_type": "markdown",
      "source": [
        "### Ejercicio:\n",
        "\n",
        "Tomando en cuenta la app del nivel inicial, separarla en módulos de vista y modelo."
      ],
      "metadata": {
        "id": "i2Rk2Jd2CE7p"
      }
    },
    {
      "cell_type": "code",
      "source": [
        "import re\n",
        "import sqlite3\n",
        "from tkinter import *\n",
        "from tkinter import ttk\n",
        "\n",
        "main = Tk()\n",
        "main.title(\"Unidad 7- Tarea\")\n",
        "\n",
        "var_producto = StringVar()\n",
        "var_descripcion = StringVar()\n",
        "\n",
        "l_producto = Label(main, text=\"Producto\")\n",
        "l_producto.grid(row=0, column=0, sticky=\"W\")\n",
        "l_descripcion = Label(main, text=\"Descripción\")\n",
        "l_descripcion.grid(row=1, column=0, sticky=\"W\")\n",
        "\n",
        "input_producto = Entry(main, width=30, textvariable=var_producto)\n",
        "input_producto.grid(row=0, column=2, sticky=\"E\")\n",
        "input_descripcion = Entry(main, width=30, textvariable=var_descripcion)\n",
        "input_descripcion.grid(row=1, column=2, sticky=\"E\")\n",
        "\n",
        "def crear_base():\n",
        "    con = sqlite3.connect('u7-tarea.db')\n",
        "    return con\n",
        "\n",
        "def crear_tabla(con):\n",
        "    cursorObj = con.cursor()\n",
        "    cursorObj.execute(\"CREATE TABLE IF NOT EXISTS productos (id integer PRIMARY KEY, producto text, descripcion text);\")\n",
        "    con.commit()\n",
        "\n",
        "def guardar_en_base():\n",
        "    con = crear_base()\n",
        "    crear_tabla(con)\n",
        "    cursorObj = con.cursor()\n",
        "\n",
        "    producto = input_producto.get()\n",
        "    descripcion = input_descripcion.get()\n",
        "\n",
        "    if producto == \"\" and descripcion == \"\":\n",
        "        print(\"Faltan datos por completar.\")\n",
        "        return\n",
        "\n",
        "    if re.match(r\"^[a-zA-Z0-9 ]+$\", producto):\n",
        "        print(\"Producto válido\")\n",
        "\n",
        "        data = (producto, descripcion)\n",
        "        query = \"INSERT INTO productos (producto, descripcion) VALUES(?, ?);\"\n",
        "        cursorObj.execute(query, data)\n",
        "        con.commit()\n",
        "        imprimir(data)\n",
        "        actualizar_treeview(datos=data)\n",
        "    else:\n",
        "        print(\"Sólo caracteres alfanuméricos.\")\n",
        "\n",
        "def imprimir(datos):\n",
        "    print(datos)\n",
        "\n",
        "def actualizar_treeview(datos):\n",
        "    tree.insert(\"\", END, text=\"\", values=(datos[0], datos[1]))\n",
        "\n",
        "\n",
        "btn_agregar = Button(main, text=\"Aceptar\", command=guardar_en_base)\n",
        "btn_agregar.grid(row=3, column=2)\n",
        "\n",
        "tree = ttk.Treeview(main)\n",
        "tree[\"columns\"] = (\"Col1\",\"Col2\")\n",
        "\n",
        "tree.column(\"#0\", width=0, minwidth=0)\n",
        "tree.column(\"Col1\", width=100, minwidth=100)\n",
        "tree.column(\"Col2\", width=200, minwidth=200)\n",
        "tree.heading(\"#0\", text=\"\", anchor=\"w\")\n",
        "tree.heading(\"Col1\", text=\"Producto\", anchor=\"w\")\n",
        "tree.heading(\"Col2\", text=\"Descripción\", anchor=\"w\")\n",
        "\n",
        "tree.grid(row=4, column=0, columnspan=3)\n",
        "\n",
        "main.mainloop()"
      ],
      "metadata": {
        "id": "d3n8AOaGBMyV"
      },
      "execution_count": null,
      "outputs": []
    },
    {
      "cell_type": "markdown",
      "source": [
        "### Output:\n",
        "\n",
        "Vista de consola, formulario y base de datos:\n",
        "\n",
        "<img src=\"https://raw.githubusercontent.com/GonzaloMartin/UTN-Diplomatura-en-Python/main/assets/P1-U7-Ejercicio.PNG\">"
      ],
      "metadata": {
        "id": "40SxrQgFl3Uo"
      }
    }
  ],
  "metadata": {
    "kernelspec": {
      "display_name": "Python 3 (ipykernel)",
      "language": "python",
      "name": "python3"
    },
    "language_info": {
      "codemirror_mode": {
        "name": "ipython",
        "version": 3
      },
      "file_extension": ".py",
      "mimetype": "text/x-python",
      "name": "python",
      "nbconvert_exporter": "python",
      "pygments_lexer": "ipython3",
      "version": "3.11.5"
    },
    "colab": {
      "provenance": [],
      "toc_visible": true,
      "include_colab_link": true
    }
  },
  "nbformat": 4,
  "nbformat_minor": 0
}