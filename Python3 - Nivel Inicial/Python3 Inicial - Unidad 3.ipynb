{
  "cells": [
    {
      "cell_type": "markdown",
      "metadata": {
        "id": "view-in-github",
        "colab_type": "text"
      },
      "source": [
        "<a href=\"https://colab.research.google.com/github/GonzaloMartin/UTN-Diplomatura-en-Python/blob/main/Python3%20-%20Nivel%20Inicial/Python3%20Inicial%20-%20Unidad%203.ipynb\" target=\"_parent\"><img src=\"https://colab.research.google.com/assets/colab-badge.svg\" alt=\"Open In Colab\"/></a>"
      ]
    },
    {
      "cell_type": "markdown",
      "metadata": {
        "id": "oFKlguwdWaxj"
      },
      "source": [
        "# DIPLOMATURA EN PYTHON\n",
        "\n",
        "### UNIDAD DIDÁCTICA 3\n",
        "\n",
        "- Módulo I – Nivel Inicial I.\n",
        "- Unidad III.\n",
        "\n",
        "#### _Resueltos de [@GonzaloMartin](https://github.com/GonzaloMartin)._\n"
      ]
    },
    {
      "cell_type": "markdown",
      "metadata": {
        "id": "kDwGsuBiWaxp"
      },
      "source": [
        "### Ejercicio 1:\n",
        "\n",
        "Tome el ejercicio de cálculo de números pares e impares de la unidad 2 y agréguele un bucle al código de forma de simplificarlo."
      ]
    },
    {
      "cell_type": "code",
      "execution_count": null,
      "metadata": {
        "id": "FxwX8IaiWaxq"
      },
      "outputs": [],
      "source": [
        "# Unidad 1 - Ejercicio 1\n",
        "# Cree un programa que incorpore el módulo sys, al cual desde la terminal se le puedan pasar tres parámetros.\n",
        "# El programa debe tomar los parámetros e indicar en la terminal si son múltiplos de dos. Utilice la estructura if/else.\n",
        "\n",
        "import sys\n",
        "\n",
        "def procesar_valor(argu):\n",
        "    if int(argu) % 2 == 0:\n",
        "        return f\"El argumento {argu} es multiplo de 2.\"\n",
        "    else:\n",
        "        return f\"El argumento {argu} no es multiplo de 2.\"\n",
        "\n",
        "lista_argumentos = sys.argv[1:]\n",
        "for argumento in lista_argumentos:\n",
        "    print(procesar_valor(argumento))"
      ]
    },
    {
      "cell_type": "markdown",
      "source": [
        "\n",
        "\n",
        "```\n",
        "(.venv) PS C:\\Cursos\\Python> python .\\holamundo.py 2 4 8\n",
        "El argumento 2 es multiplo de 2.\n",
        "El argumento 4 es multiplo de 2.\n",
        "El argumento 8 es multiplo de 2.\n",
        "```\n",
        "\n"
      ],
      "metadata": {
        "id": "rlWJE4DTjo0g"
      }
    },
    {
      "cell_type": "markdown",
      "metadata": {
        "id": "fxYb2kgCWaxw"
      },
      "source": [
        "### Ejercicio 2:\n",
        "\n",
        "Escriba un programa que consulte al usuario por una oración y comente al usuario cuantas veces aparece la letra “a”."
      ]
    },
    {
      "cell_type": "code",
      "execution_count": 1,
      "metadata": {
        "id": "WGgGV2bXWaxx",
        "colab": {
          "base_uri": "https://localhost:8080/"
        },
        "outputId": "c40d05fa-42c9-4915-92e5-f60b0c6e1de4"
      },
      "outputs": [
        {
          "output_type": "stream",
          "name": "stdout",
          "text": [
            "Ingrese una oración: Gonzalo Martin\n",
            "La letra 'a' aparece 2 veces.\n"
          ]
        }
      ],
      "source": [
        "oracion = input(\"Ingrese una oración: \")\n",
        "contador_a = 0\n",
        "\n",
        "for caracter in oracion:\n",
        "    if caracter.lower() == 'a':\n",
        "        contador_a += 1\n",
        "\n",
        "print(f\"La letra 'a' aparece {contador_a} veces.\")"
      ]
    },
    {
      "cell_type": "markdown",
      "source": [
        "### Ejercicio 3:\n",
        "\n",
        "Escriba un programa que consulte al usuario por una oración y comente al usuario cuantas veces aparecen todas las vocales considerando minúsculas, mayúsculas y acentos."
      ],
      "metadata": {
        "id": "lFMmuJuklV0-"
      }
    },
    {
      "cell_type": "code",
      "source": [
        "oracion = input(\"Ingrese una oración: \").lower()\n",
        "contador_vocales = 0\n",
        "datos_vocales = set(\"aeiouáéíóú\")\n",
        "\n",
        "for caracter in oracion:\n",
        "    if caracter in datos_vocales:\n",
        "        contador_vocales += 1\n",
        "\n",
        "print(f\"La oración tiene {contador_vocales} vocales.\")"
      ],
      "metadata": {
        "id": "3NR3C_Ninatr",
        "colab": {
          "base_uri": "https://localhost:8080/"
        },
        "outputId": "1e04c022-a762-449f-80d7-3771c72e07ca"
      },
      "execution_count": 3,
      "outputs": [
        {
          "output_type": "stream",
          "name": "stdout",
          "text": [
            "Ingrese una oración: Gonzalo Martín\n",
            "La oración tiene 5 vocales.\n"
          ]
        }
      ]
    },
    {
      "cell_type": "markdown",
      "metadata": {
        "id": "9WGmJgP3Waxy"
      },
      "source": [
        "### Ejercicio 4:\n",
        "\n",
        "Escriba un programa que solicite la edad de la persona e imprima todos los años que la persona ha cumplido."
      ]
    },
    {
      "cell_type": "code",
      "execution_count": null,
      "metadata": {
        "id": "Jr85HiB3Waxz"
      },
      "outputs": [],
      "source": []
    },
    {
      "cell_type": "markdown",
      "metadata": {
        "id": "4i3nqkB9Wax0"
      },
      "source": [
        "### Ejercicio 5:\n",
        "\n",
        "Suponga que tiene una verdulería y carga la cantidad y el precio de lo comprado por un cliente. Realice un programa que tome de a uno la cantidad y el precio comprado por el cliente y al finalizar la compra retorne el monto total gastado."
      ]
    },
    {
      "cell_type": "code",
      "execution_count": null,
      "metadata": {
        "id": "vqHJZVJBWax0"
      },
      "outputs": [],
      "source": []
    },
    {
      "cell_type": "markdown",
      "source": [
        "### Ejercicio 6:\n",
        "\n",
        "A partir del ejercicio 5 cree un programa que vaya agregando en una lista las compras realizadas."
      ],
      "metadata": {
        "id": "PL4SgOBAnbGq"
      }
    },
    {
      "cell_type": "code",
      "source": [],
      "metadata": {
        "id": "WZJados3nXD_"
      },
      "execution_count": null,
      "outputs": []
    },
    {
      "cell_type": "markdown",
      "source": [
        "### Ejercicio 7:\n",
        "\n",
        "A partir del ejercicio 5 cree un programa que vaya agregando en un diccionario las compras realizadas."
      ],
      "metadata": {
        "id": "qd6_zuIOnnh0"
      }
    },
    {
      "cell_type": "code",
      "source": [],
      "metadata": {
        "id": "5LB0nDOGnW3u"
      },
      "execution_count": null,
      "outputs": []
    },
    {
      "cell_type": "markdown",
      "source": [
        "### Ejercicio 8:\n",
        "\n",
        "A partir del ejerció 6 cree un programa con 4 funciones:\n",
        "\n",
        "**alta()** para dar de alta la nueva compra\n",
        "\n",
        "**baja()** para dar de baja una compra\n",
        "\n",
        "**consulta()** para consultar por todas las compras realizadas hasta el momento\n",
        "\n",
        "**modificar()** para modificar una compra realizada"
      ],
      "metadata": {
        "id": "tTbCmqpFn4Lr"
      }
    },
    {
      "cell_type": "code",
      "source": [],
      "metadata": {
        "id": "j67udWX6oT_W"
      },
      "execution_count": null,
      "outputs": []
    },
    {
      "cell_type": "markdown",
      "source": [
        "### Ejercicio 9:\n",
        "\n",
        "A partir del ejerció 7 cree un programa con 4 funciones:\n",
        "\n",
        "**alta()** para dar de alta la nueva compra\n",
        "\n",
        "**baja()** para dar de baja una compra\n",
        "\n",
        "**consulta()** para consultar por todas las compras realizadas hasta el momento\n",
        "\n",
        "**modificar()** para modificar una compra realizada\n",
        "\n",
        "Pregunta: Considera que es más fácil guardar la información en listas o en diccionarios"
      ],
      "metadata": {
        "id": "M8_37DGVoBQA"
      }
    },
    {
      "cell_type": "code",
      "source": [],
      "metadata": {
        "id": "3VZDWYxSo0Cj"
      },
      "execution_count": null,
      "outputs": []
    }
  ],
  "metadata": {
    "kernelspec": {
      "display_name": "Python 3 (ipykernel)",
      "language": "python",
      "name": "python3"
    },
    "language_info": {
      "codemirror_mode": {
        "name": "ipython",
        "version": 3
      },
      "file_extension": ".py",
      "mimetype": "text/x-python",
      "name": "python",
      "nbconvert_exporter": "python",
      "pygments_lexer": "ipython3",
      "version": "3.11.5"
    },
    "colab": {
      "provenance": [],
      "include_colab_link": true
    }
  },
  "nbformat": 4,
  "nbformat_minor": 0
}