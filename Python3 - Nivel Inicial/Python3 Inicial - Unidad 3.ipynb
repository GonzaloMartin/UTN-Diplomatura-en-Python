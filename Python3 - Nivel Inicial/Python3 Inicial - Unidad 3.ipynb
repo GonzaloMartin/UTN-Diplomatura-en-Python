{
  "cells": [
    {
      "cell_type": "markdown",
      "metadata": {
        "id": "view-in-github",
        "colab_type": "text"
      },
      "source": [
        "<a href=\"https://colab.research.google.com/github/GonzaloMartin/UTN-Diplomatura-en-Python/blob/main/Python3%20-%20Nivel%20Inicial/Python3%20Inicial%20-%20Unidad%203.ipynb\" target=\"_parent\"><img src=\"https://colab.research.google.com/assets/colab-badge.svg\" alt=\"Open In Colab\"/></a>"
      ]
    },
    {
      "cell_type": "markdown",
      "metadata": {
        "id": "oFKlguwdWaxj"
      },
      "source": [
        "# DIPLOMATURA EN PYTHON\n",
        "\n",
        "### UNIDAD DIDÁCTICA 3\n",
        "\n",
        "- Módulo I – Nivel Inicial I.\n",
        "- Unidad III.\n",
        "\n",
        "#### _Resueltos de [@GonzaloMartin](https://github.com/GonzaloMartin)._\n"
      ]
    },
    {
      "cell_type": "markdown",
      "metadata": {
        "id": "kDwGsuBiWaxp"
      },
      "source": [
        "### Ejercicio 1:\n",
        "\n",
        "Tome el ejercicio de cálculo de números pares e impares de la unidad 2 y agréguele un bucle al código de forma de simplificarlo."
      ]
    },
    {
      "cell_type": "code",
      "execution_count": null,
      "metadata": {
        "id": "FxwX8IaiWaxq"
      },
      "outputs": [],
      "source": [
        "# Unidad 1 - Ejercicio 1\n",
        "# Cree un programa que incorpore el módulo sys, al cual desde la terminal se le puedan pasar tres parámetros.\n",
        "# El programa debe tomar los parámetros e indicar en la terminal si son múltiplos de dos. Utilice la estructura if/else.\n",
        "\n",
        "import sys\n",
        "\n",
        "def procesar_valor(argu):\n",
        "    if int(argu) % 2 == 0:\n",
        "        return f\"El argumento {argu} es multiplo de 2.\"\n",
        "    else:\n",
        "        return f\"El argumento {argu} no es multiplo de 2.\"\n",
        "\n",
        "lista_argumentos = sys.argv[1:]\n",
        "for argumento in lista_argumentos:\n",
        "    print(procesar_valor(argumento))"
      ]
    },
    {
      "cell_type": "markdown",
      "source": [
        "\n",
        "\n",
        "```\n",
        "(.venv) PS C:\\Cursos\\Python> python .\\holamundo.py 2 4 8\n",
        "El argumento 2 es multiplo de 2.\n",
        "El argumento 4 es multiplo de 2.\n",
        "El argumento 8 es multiplo de 2.\n",
        "```\n",
        "\n"
      ],
      "metadata": {
        "id": "rlWJE4DTjo0g"
      }
    },
    {
      "cell_type": "markdown",
      "metadata": {
        "id": "fxYb2kgCWaxw"
      },
      "source": [
        "### Ejercicio 2:\n",
        "\n",
        "Escriba un programa que consulte al usuario por una oración y comente al usuario cuantas veces aparece la letra “a”."
      ]
    },
    {
      "cell_type": "code",
      "execution_count": null,
      "metadata": {
        "id": "WGgGV2bXWaxx",
        "colab": {
          "base_uri": "https://localhost:8080/"
        },
        "outputId": "c40d05fa-42c9-4915-92e5-f60b0c6e1de4"
      },
      "outputs": [
        {
          "output_type": "stream",
          "name": "stdout",
          "text": [
            "Ingrese una oración: Gonzalo Martin\n",
            "La letra 'a' aparece 2 veces.\n"
          ]
        }
      ],
      "source": [
        "oracion = input(\"Ingrese una oración: \")\n",
        "contador_a = 0\n",
        "\n",
        "for caracter in oracion:\n",
        "    if caracter.lower() == 'a':\n",
        "        contador_a += 1\n",
        "\n",
        "print(f\"La letra 'a' aparece {contador_a} veces.\")"
      ]
    },
    {
      "cell_type": "markdown",
      "source": [
        "### Ejercicio 3:\n",
        "\n",
        "Escriba un programa que consulte al usuario por una oración y comente al usuario cuantas veces aparecen todas las vocales considerando minúsculas, mayúsculas y acentos."
      ],
      "metadata": {
        "id": "lFMmuJuklV0-"
      }
    },
    {
      "cell_type": "code",
      "source": [
        "oracion = input(\"Ingrese una oración: \").lower()\n",
        "contador_vocales = 0\n",
        "datos_vocales = set(\"aeiouáéíóú\")\n",
        "\n",
        "for caracter in oracion:\n",
        "    if caracter in datos_vocales:\n",
        "        contador_vocales += 1\n",
        "\n",
        "print(f\"La oración tiene {contador_vocales} vocales.\")"
      ],
      "metadata": {
        "id": "3NR3C_Ninatr",
        "colab": {
          "base_uri": "https://localhost:8080/"
        },
        "outputId": "1e04c022-a762-449f-80d7-3771c72e07ca"
      },
      "execution_count": null,
      "outputs": [
        {
          "output_type": "stream",
          "name": "stdout",
          "text": [
            "Ingrese una oración: Gonzalo Martín\n",
            "La oración tiene 5 vocales.\n"
          ]
        }
      ]
    },
    {
      "cell_type": "markdown",
      "metadata": {
        "id": "9WGmJgP3Waxy"
      },
      "source": [
        "### Ejercicio 4:\n",
        "\n",
        "Escriba un programa que solicite la edad de la persona e imprima todos los años que la persona ha cumplido."
      ]
    },
    {
      "cell_type": "code",
      "execution_count": null,
      "metadata": {
        "id": "Jr85HiB3Waxz",
        "outputId": "49ea4a3e-91dc-43d3-d2bb-d5bd00e90c6c",
        "colab": {
          "base_uri": "https://localhost:8080/"
        }
      },
      "outputs": [
        {
          "output_type": "stream",
          "name": "stdout",
          "text": [
            "Ingrese una edad: 5\n",
            "1\n",
            "2\n",
            "3\n",
            "4\n",
            "5\n"
          ]
        }
      ],
      "source": [
        "edad = int(input(\"Ingrese una edad: \"))\n",
        "for i in range(edad):\n",
        "    i += 1\n",
        "    print(i)"
      ]
    },
    {
      "cell_type": "markdown",
      "metadata": {
        "id": "4i3nqkB9Wax0"
      },
      "source": [
        "### Ejercicio 5:\n",
        "\n",
        "Suponga que tiene una verdulería y carga la cantidad y el precio de lo comprado por un cliente.\n",
        "\n",
        "Realice un programa que tome de a uno la cantidad y el precio comprado por el cliente y al finalizar la compra retorne el monto total gastado."
      ]
    },
    {
      "cell_type": "code",
      "execution_count": null,
      "metadata": {
        "id": "vqHJZVJBWax0",
        "outputId": "aa817d0c-eabe-4a2b-d2ab-465fa4b7679b",
        "colab": {
          "base_uri": "https://localhost:8080/"
        }
      },
      "outputs": [
        {
          "output_type": "stream",
          "name": "stdout",
          "text": [
            "Ingrese el producto (escriba 'off' para salir): Manzana\n",
            "Ingrese cantidad: 1\n",
            "Ingrese precio: 100\n",
            "Ingrese el producto (escriba 'off' para salir): Naranja\n",
            "Ingrese cantidad: 1\n",
            "Ingrese precio: 100\n",
            "Ingrese el producto (escriba 'off' para salir): off\n",
            "El total a pagar es: 200.0\n"
          ]
        }
      ],
      "source": [
        "suma = 0\n",
        "while True:\n",
        "    producto = input(\"Ingrese el producto (escriba 'off' para salir): \")\n",
        "    if producto == 'off': break\n",
        "    cantidad = int(input(\"Ingrese cantidad: \"))\n",
        "    precio   = float(input(\"Ingrese precio: \"))\n",
        "    suma += cantidad * precio\n",
        "\n",
        "print(f\"El total a pagar es: {suma}\")"
      ]
    },
    {
      "cell_type": "markdown",
      "source": [
        "### Ejercicio 6:\n",
        "\n",
        "A partir del ejercicio 5 cree un programa que vaya agregando en una lista las compras realizadas."
      ],
      "metadata": {
        "id": "PL4SgOBAnbGq"
      }
    },
    {
      "cell_type": "code",
      "source": [
        "suma = 0\n",
        "lista = []\n",
        "while True:\n",
        "    producto = input(\"Ingrese el producto (escriba 'off' para salir): \")\n",
        "    if producto == 'off': break\n",
        "    cantidad = int(input(\"Ingrese cantidad: \"))\n",
        "    precio   = float(input(\"Ingrese precio: \"))\n",
        "    lista.append([producto, cantidad, precio])\n",
        "    suma += cantidad * precio\n",
        "\n",
        "print(f\"El total a pagar es: {suma}\")\n",
        "print(lista)"
      ],
      "metadata": {
        "id": "WZJados3nXD_",
        "outputId": "a84ffbcb-9913-4a0b-a4b3-876ae0654492",
        "colab": {
          "base_uri": "https://localhost:8080/"
        }
      },
      "execution_count": null,
      "outputs": [
        {
          "output_type": "stream",
          "name": "stdout",
          "text": [
            "Ingrese el producto (escriba 'off' para salir): Naranja\n",
            "Ingrese cantidad: 1\n",
            "Ingrese precio: 100\n",
            "Ingrese el producto (escriba 'off' para salir): Manzana\n",
            "Ingrese cantidad: 1\n",
            "Ingrese precio: 100\n",
            "Ingrese el producto (escriba 'off' para salir): off\n",
            "El total a pagar es: 200.0\n",
            "[['Naranja', 1, 100.0], ['Manzana', 1, 100.0]]\n"
          ]
        }
      ]
    },
    {
      "cell_type": "markdown",
      "source": [
        "### Ejercicio 7:\n",
        "\n",
        "A partir del ejercicio 5 cree un programa que vaya agregando en un diccionario las compras realizadas."
      ],
      "metadata": {
        "id": "qd6_zuIOnnh0"
      }
    },
    {
      "cell_type": "code",
      "source": [
        "suma = 0\n",
        "diccionario = {}\n",
        "while True:\n",
        "    producto = input(\"Ingrese el producto (escriba 'off' para salir): \")\n",
        "    if producto == 'off': break\n",
        "    cantidad = int(input(\"Ingrese cantidad: \"))\n",
        "    precio   = float(input(\"Ingrese precio: \"))\n",
        "    diccionario[producto] = [cantidad, precio]\n",
        "    suma += cantidad * precio\n",
        "\n",
        "print(f\"El total a pagar es: {suma}\")\n",
        "print(diccionario)"
      ],
      "metadata": {
        "id": "5LB0nDOGnW3u",
        "outputId": "41c37066-5ea8-424b-e41f-6ae5887f162e",
        "colab": {
          "base_uri": "https://localhost:8080/"
        }
      },
      "execution_count": null,
      "outputs": [
        {
          "output_type": "stream",
          "name": "stdout",
          "text": [
            "Ingrese el producto (escriba 'off' para salir): Naranja\n",
            "Ingrese cantidad: 1\n",
            "Ingrese precio: 100\n",
            "Ingrese el producto (escriba 'off' para salir): Manzana\n",
            "Ingrese cantidad: 1\n",
            "Ingrese precio: 100\n",
            "Ingrese el producto (escriba 'off' para salir): off\n",
            "El total a pagar es: 200.0\n",
            "{'Naranja': [1, 100.0], 'Manzana': [1, 100.0]}\n"
          ]
        }
      ]
    },
    {
      "cell_type": "markdown",
      "source": [
        "### Ejercicio 8:\n",
        "\n",
        "A partir del ejerció 6 cree un programa con 4 funciones:\n",
        "\n",
        "**alta()** para dar de alta la nueva compra\n",
        "\n",
        "**baja()** para dar de baja una compra\n",
        "\n",
        "**consulta()** para consultar por todas las compras realizadas hasta el momento\n",
        "\n",
        "**modificar()** para modificar una compra realizada"
      ],
      "metadata": {
        "id": "tTbCmqpFn4Lr"
      }
    },
    {
      "cell_type": "code",
      "source": [
        "def alta():  # para alta de compras.\n",
        "    suma = 0\n",
        "    while True:\n",
        "        prod = input(\"    Ingrese el producto (escriba 'off' para salir): \")\n",
        "        if prod == 'off': break\n",
        "        cant = int(input(\"    Ingrese cantidad: \"))\n",
        "        prec = float(input(\"    Ingrese precio: \"))\n",
        "        subtotal = cant * prec\n",
        "        suma += cant * prec\n",
        "        lista.append([prod, cant, prec, subtotal])\n",
        "    if len(lista) > 0:\n",
        "        print(f\"\\n    Total: $ {suma}\\n\")\n",
        "\n",
        "def baja():  # para baja de compras.\n",
        "    consulta()\n",
        "    bandera_baja = False\n",
        "    while True:\n",
        "        print(\"\\n    Seleccione un número de item para dar de baja\")\n",
        "        opcion_baja = input(\"    (o escriba 'off' para Cancelar): \")\n",
        "        if opcion_baja == 'off': break\n",
        "        if int(opcion_baja) > 0 and int(opcion_baja) <= len(lista):\n",
        "            lista.pop(int(opcion_baja)-1)\n",
        "            bandera_baja = True\n",
        "        else:\n",
        "            break\n",
        "    if bandera_baja:\n",
        "        print(\"\\n    Se ha/n dado de baja el/los item/s seleccionado/s.\\n\")\n",
        "\n",
        "def consulta():  # consulta todas las compras realizadas.\n",
        "    print(\"\\n             LISTA DE PRODUCTOS:\")\n",
        "    print(f\"    ID   Producto   Cant   Precio  Sub-Total\")\n",
        "    print(f\"    --   --------   ----   ------  ---------\")\n",
        "    total = 0\n",
        "    for i in range(len(lista)):\n",
        "        print(f\"    [{i+1}]  {lista[i][0]}       {lista[i][1]}    {lista[i][2]}      {lista[i][3]}\")\n",
        "        total += lista[i][3]\n",
        "    print(f\"    Total: $ {total}\\n\")\n",
        "\n",
        "def modificar():  # para modificar una compra\n",
        "    consulta()\n",
        "    bandera_mod = False\n",
        "    while True:\n",
        "        print(\"    Seleccione un número de item para modificar\")\n",
        "        opcion_mod = input(\"    (o escriba 'off' para Cancelar): \")\n",
        "        if opcion_mod == 'off': break\n",
        "        if int(opcion_mod) > 0 and int(opcion_mod) <= len(lista):\n",
        "            print(f\"    Modificará el item {opcion_mod}: {lista[int(opcion_mod)-1]}:\")\n",
        "            prod = input(\"\\n    Ingrese el nuevo valor para el Producto (escriba 'off' para salir): \")\n",
        "            if prod == 'off': break\n",
        "            cant = int(input(\"    Ingrese el nuevo valor de cantidad: \"))\n",
        "            prec = float(input(\"    Ingrese nuevo valor de precio: \"))\n",
        "            lista[int(opcion_mod)-1] = [prod, cant, prec, cant * prec]\n",
        "            bandera_mod = True\n",
        "        else:\n",
        "            break\n",
        "    if bandera_mod:\n",
        "        print(\"\\n    Se ha/n modificado el/los item/s seleccionado/s.\\n\")\n",
        "\n",
        "lista = []\n",
        "while True:\n",
        "    print(\"1- Dar de alta un producto.\")\n",
        "    print(\"2- Dar de baja un producto.\")\n",
        "    print(\"3- Consultar compras.\")\n",
        "    print(\"4- Modificar una compra.\")\n",
        "    print(\"0- Salir.\")\n",
        "    opcion = int(input(\"Ingrese una opción: \"))\n",
        "    match opcion:\n",
        "        case 1:\n",
        "            alta()\n",
        "        case 2:\n",
        "            baja()\n",
        "        case 3:\n",
        "            consulta()\n",
        "        case 4:\n",
        "            modificar()\n",
        "        case _:\n",
        "            print(\"\\n    Bye!\")\n",
        "            break\n"
      ],
      "metadata": {
        "id": "j67udWX6oT_W",
        "outputId": "4c6120d1-82b3-405e-a0de-ad46877bc340",
        "colab": {
          "base_uri": "https://localhost:8080/"
        }
      },
      "execution_count": 6,
      "outputs": [
        {
          "output_type": "stream",
          "name": "stdout",
          "text": [
            "1- Dar de alta un producto.\n",
            "2- Dar de baja un producto.\n",
            "3- Consultar compras.\n",
            "4- Modificar una compra.\n",
            "0- Salir.\n",
            "Ingrese una opción: 1\n",
            "    Ingrese el producto (escriba 'off' para salir): Manzana\n",
            "    Ingrese cantidad: 1\n",
            "    Ingrese precio: 100\n",
            "    Ingrese el producto (escriba 'off' para salir): Naranja\n",
            "    Ingrese cantidad: 2\n",
            "    Ingrese precio: 100\n",
            "    Ingrese el producto (escriba 'off' para salir): Bananas\n",
            "    Ingrese cantidad: 3\n",
            "    Ingrese precio: 100\n",
            "    Ingrese el producto (escriba 'off' para salir): Durazno\n",
            "    Ingrese cantidad: 4\n",
            "    Ingrese precio: 100\n",
            "    Ingrese el producto (escriba 'off' para salir): off\n",
            "\n",
            "    Total: $ 1000.0\n",
            "\n",
            "1- Dar de alta un producto.\n",
            "2- Dar de baja un producto.\n",
            "3- Consultar compras.\n",
            "4- Modificar una compra.\n",
            "0- Salir.\n",
            "Ingrese una opción: 2\n",
            "\n",
            "             LISTA DE PRODUCTOS:\n",
            "    ID   Producto   Cant   Precio  Sub-Total\n",
            "    --   --------   ----   ------  ---------\n",
            "    [1]  Manzana       1    100.0      100.0\n",
            "    [2]  Naranja       2    100.0      200.0\n",
            "    [3]  Bananas       3    100.0      300.0\n",
            "    [4]  Durazno       4    100.0      400.0\n",
            "    Total: $ 1000.0\n",
            "\n",
            "\n",
            "    Seleccione un número de item para dar de baja\n",
            "    (o escriba 'off' para Cancelar): 4\n",
            "\n",
            "    Seleccione un número de item para dar de baja\n",
            "    (o escriba 'off' para Cancelar): off\n",
            "\n",
            "    Se ha/n dado de baja el/los item/s seleccionado/s.\n",
            "\n",
            "1- Dar de alta un producto.\n",
            "2- Dar de baja un producto.\n",
            "3- Consultar compras.\n",
            "4- Modificar una compra.\n",
            "0- Salir.\n",
            "Ingrese una opción: 3\n",
            "\n",
            "             LISTA DE PRODUCTOS:\n",
            "    ID   Producto   Cant   Precio  Sub-Total\n",
            "    --   --------   ----   ------  ---------\n",
            "    [1]  Manzana       1    100.0      100.0\n",
            "    [2]  Naranja       2    100.0      200.0\n",
            "    [3]  Bananas       3    100.0      300.0\n",
            "    Total: $ 600.0\n",
            "\n",
            "1- Dar de alta un producto.\n",
            "2- Dar de baja un producto.\n",
            "3- Consultar compras.\n",
            "4- Modificar una compra.\n",
            "0- Salir.\n",
            "Ingrese una opción: 4\n",
            "\n",
            "             LISTA DE PRODUCTOS:\n",
            "    ID   Producto   Cant   Precio  Sub-Total\n",
            "    --   --------   ----   ------  ---------\n",
            "    [1]  Manzana       1    100.0      100.0\n",
            "    [2]  Naranja       2    100.0      200.0\n",
            "    [3]  Bananas       3    100.0      300.0\n",
            "    Total: $ 600.0\n",
            "\n",
            "    Seleccione un número de item para modificar\n",
            "    (o escriba 'off' para Cancelar): 1\n",
            "    Modificará el item 1: ['Manzana', 1, 100.0, 100.0]:\n",
            "\n",
            "    Ingrese el nuevo valor para el Producto (escriba 'off' para salir): Manzana\n",
            "    Ingrese el nuevo valor de cantidad: 2\n",
            "    Ingrese nuevo valor de precio: 100\n",
            "    Seleccione un número de item para modificar\n",
            "    (o escriba 'off' para Cancelar): off\n",
            "\n",
            "    Se ha/n modificado el/los item/s seleccionado/s.\n",
            "\n",
            "1- Dar de alta un producto.\n",
            "2- Dar de baja un producto.\n",
            "3- Consultar compras.\n",
            "4- Modificar una compra.\n",
            "0- Salir.\n",
            "Ingrese una opción: 3\n",
            "\n",
            "             LISTA DE PRODUCTOS:\n",
            "    ID   Producto   Cant   Precio  Sub-Total\n",
            "    --   --------   ----   ------  ---------\n",
            "    [1]  Manzana       2    100.0      200.0\n",
            "    [2]  Naranja       2    100.0      200.0\n",
            "    [3]  Bananas       3    100.0      300.0\n",
            "    Total: $ 700.0\n",
            "\n",
            "1- Dar de alta un producto.\n",
            "2- Dar de baja un producto.\n",
            "3- Consultar compras.\n",
            "4- Modificar una compra.\n",
            "0- Salir.\n",
            "Ingrese una opción: 0\n",
            "\n",
            "    Bye!\n"
          ]
        }
      ]
    },
    {
      "cell_type": "markdown",
      "source": [
        "### Ejercicio 9:\n",
        "\n",
        "A partir del ejerció 7 cree un programa con 4 funciones:\n",
        "\n",
        "**alta()** para dar de alta la nueva compra\n",
        "\n",
        "**baja()** para dar de baja una compra\n",
        "\n",
        "**consulta()** para consultar por todas las compras realizadas hasta el momento\n",
        "\n",
        "**modificar()** para modificar una compra realizada\n",
        "\n",
        "Pregunta: Considera que es más fácil guardar la información en listas o en diccionarios"
      ],
      "metadata": {
        "id": "M8_37DGVoBQA"
      }
    },
    {
      "cell_type": "code",
      "source": [],
      "metadata": {
        "id": "3VZDWYxSo0Cj"
      },
      "execution_count": null,
      "outputs": []
    },
    {
      "cell_type": "markdown",
      "source": [
        "### Ejercicio 10:\n",
        "\n",
        "Escriba un programa que guarde en una variable una contraseña y consulte al usuario por la contraseña hasta que esta sea correcta.\n",
        "\n",
        "El programa debe informar al usuario si la contraseña fue correcta o no."
      ],
      "metadata": {
        "id": "6-m0hfdoqT2f"
      }
    },
    {
      "cell_type": "code",
      "source": [
        "clave_ok = \"Aguante_River_Plate*\"\n",
        "\n",
        "while True:\n",
        "    input_clave = input(\"Ingrese la contraseña: \")\n",
        "    if input_clave == clave_ok:\n",
        "        print(\"Contraseña OK!\")\n",
        "        break\n",
        "    else:\n",
        "        print(\"Ah ah ah, no dijiste la palabra mágica! :P\")"
      ],
      "metadata": {
        "id": "SVRsEBSPqfqI",
        "colab": {
          "base_uri": "https://localhost:8080/"
        },
        "outputId": "54468eae-1568-4740-e8be-057593df1b03"
      },
      "execution_count": 2,
      "outputs": [
        {
          "output_type": "stream",
          "name": "stdout",
          "text": [
            "Ingrese la contraseña: hola\n",
            "Ah ah ah, no dijiste la palabra mágica! :P\n",
            "Ingrese la contraseña: 123\n",
            "Ah ah ah, no dijiste la palabra mágica! :P\n",
            "Ingrese la contraseña: Aguante_River_Plate*\n",
            "Contraseña OK!\n"
          ]
        }
      ]
    }
  ],
  "metadata": {
    "kernelspec": {
      "display_name": "Python 3 (ipykernel)",
      "language": "python",
      "name": "python3"
    },
    "language_info": {
      "codemirror_mode": {
        "name": "ipython",
        "version": 3
      },
      "file_extension": ".py",
      "mimetype": "text/x-python",
      "name": "python",
      "nbconvert_exporter": "python",
      "pygments_lexer": "ipython3",
      "version": "3.11.5"
    },
    "colab": {
      "provenance": [],
      "toc_visible": true,
      "include_colab_link": true
    }
  },
  "nbformat": 4,
  "nbformat_minor": 0
}