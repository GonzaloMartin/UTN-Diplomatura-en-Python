{
  "cells": [
    {
      "cell_type": "markdown",
      "metadata": {
        "id": "view-in-github",
        "colab_type": "text"
      },
      "source": [
        "<a href=\"https://colab.research.google.com/github/GonzaloMartin/UTN-Diplomatura-en-Python/blob/main/Python3%20-%20Nivel%20Inicial/Python3%20Inicial%20-%20Unidad%205.ipynb\" target=\"_parent\"><img src=\"https://colab.research.google.com/assets/colab-badge.svg\" alt=\"Open In Colab\"/></a>"
      ]
    },
    {
      "cell_type": "markdown",
      "metadata": {
        "id": "oFKlguwdWaxj"
      },
      "source": [
        "# DIPLOMATURA EN PYTHON\n",
        "\n",
        "### UNIDAD DIDÁCTICA 5\n",
        "\n",
        "- Módulo II – Nivel Inicial I.\n",
        "- Unidad V.\n",
        "\n",
        "#### _Resueltos de [@GonzaloMartin](https://github.com/GonzaloMartin)._"
      ]
    },
    {
      "cell_type": "markdown",
      "source": [
        "## Ejercicio Desafío:\n",
        "\n",
        "Realizar una App utilizando Tkinter.\n"
      ],
      "metadata": {
        "id": "IvT_gsM8zlis"
      }
    },
    {
      "cell_type": "markdown",
      "metadata": {
        "id": "kDwGsuBiWaxp"
      },
      "source": [
        "### Características:\n",
        "\n",
        "La misma debe presentar 2 botones:\n",
        "- El primero de alta de datos, debe permitir tomar los valores de los campos de entrada y presentarlos en la consola.\n",
        "- El segundo debe permitir cambiar el color de fondo de la aplicación.\n"
      ]
    },
    {
      "cell_type": "code",
      "execution_count": 2,
      "metadata": {
        "id": "FxwX8IaiWaxq"
      },
      "outputs": [],
      "source": [
        "from tkinter import *\n",
        "from tkinter.colorchooser import askcolor\n",
        "\n",
        "main = Tk()\n",
        "main.title(\"Desafío Unidad 5\")\n",
        "\n",
        "l_nombre = Label(main, text=\"Nombre\")\n",
        "l_nombre.grid(row=0, column=0, sticky=\"W\")\n",
        "l_apellido = Label(main, text=\"Apellido\")\n",
        "l_apellido.grid(row=1, column=0, sticky=\"W\")\n",
        "l_pais = Label(main, text=\"País\")\n",
        "l_pais.grid(row=2, column=0, sticky=\"W\")\n",
        "\n",
        "input_nombre = Entry(main)\n",
        "input_nombre.grid(row=0, column=2)\n",
        "input_apellido = Entry(main)\n",
        "input_apellido.grid(row=1, column=2)\n",
        "input_pais = Entry(main)\n",
        "input_pais.grid(row=2, column=2)\n",
        "\n",
        "def imprimir():\n",
        "    print(f\"Nombre: {input_nombre.get()}, Apellido: {input_apellido.get()}, País: {input_pais.get()}.\")\n",
        "\n",
        "def colorear():\n",
        "    color = askcolor(title=\"Selecciona un color\")\n",
        "    main.configure(bg=color[1])\n",
        "    l_nombre.configure(bg=color[1])\n",
        "    l_apellido.configure(bg=color[1])\n",
        "    l_pais.configure(bg=color[1])\n",
        "\n",
        "btn_agregar = Button(main, text=\"Aceptar\", command=imprimir)\n",
        "btn_agregar.grid(row=3, column=2)\n",
        "btn_color = Button(main, text=\"Colorear\", command=colorear)\n",
        "btn_color.grid(row=3, column=3)\n",
        "main.mainloop()"
      ]
    }
  ],
  "metadata": {
    "kernelspec": {
      "display_name": "Python 3 (ipykernel)",
      "language": "python",
      "name": "python3"
    },
    "language_info": {
      "codemirror_mode": {
        "name": "ipython",
        "version": 3
      },
      "file_extension": ".py",
      "mimetype": "text/x-python",
      "name": "python",
      "nbconvert_exporter": "python",
      "pygments_lexer": "ipython3",
      "version": "3.11.5"
    },
    "colab": {
      "provenance": [],
      "toc_visible": true,
      "include_colab_link": true
    }
  },
  "nbformat": 4,
  "nbformat_minor": 0
}