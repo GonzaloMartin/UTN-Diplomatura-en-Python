{
  "cells": [
    {
      "cell_type": "markdown",
      "metadata": {
        "id": "view-in-github",
        "colab_type": "text"
      },
      "source": [
        "<a href=\"https://colab.research.google.com/github/GonzaloMartin/UTN-Diplomatura-en-Python/blob/main/Python3%20-%20Nivel%20Inicial/Python3%20Inicial%20-%20Unidad%205.ipynb\" target=\"_parent\"><img src=\"https://colab.research.google.com/assets/colab-badge.svg\" alt=\"Open In Colab\"/></a>"
      ]
    },
    {
      "cell_type": "markdown",
      "metadata": {
        "id": "oFKlguwdWaxj"
      },
      "source": [
        "# DIPLOMATURA EN PYTHON\n",
        "\n",
        "### UNIDAD DIDÁCTICA 5\n",
        "\n",
        "- Módulo II – Nivel Inicial I.\n",
        "- Unidad V.\n",
        "\n",
        "#### _Resueltos de [@GonzaloMartin](https://github.com/GonzaloMartin)._"
      ]
    },
    {
      "cell_type": "markdown",
      "source": [
        "## Ejercicio Desafío:\n",
        "\n",
        "Realizar una App utilizando Tkinter.\n"
      ],
      "metadata": {
        "id": "IvT_gsM8zlis"
      }
    },
    {
      "cell_type": "markdown",
      "metadata": {
        "id": "kDwGsuBiWaxp"
      },
      "source": [
        "### Características:\n",
        "\n",
        "La misma debe presentar 2 botones:\n",
        "- El primero de alta de datos, debe permitir tomar los valores de los campos de entrada y presentarlos en la consola.\n",
        "- El segundo debe permitir cambiar el color de fondo de la aplicación.\n"
      ]
    },
    {
      "cell_type": "code",
      "execution_count": null,
      "metadata": {
        "id": "FxwX8IaiWaxq"
      },
      "outputs": [],
      "source": []
    },
    {
      "cell_type": "markdown",
      "metadata": {
        "id": "fxYb2kgCWaxw"
      },
      "source": [
        "### Ejercicio 2 - Dificultad media:\n",
        "\n",
        "Crear una función lambda que sea equivalente a la siguiente función:\n",
        "\n",
        "```python\n",
        "def multiplicar_por_tres(valor):\n",
        "    res = 3 * valor\n",
        "    return res\n",
        "```"
      ]
    },
    {
      "cell_type": "code",
      "execution_count": null,
      "metadata": {
        "id": "WGgGV2bXWaxx",
        "colab": {
          "base_uri": "https://localhost:8080/"
        },
        "outputId": "cbec7926-3ea8-4d23-de2f-72a5e2e0f942"
      },
      "outputs": [
        {
          "output_type": "stream",
          "name": "stdout",
          "text": [
            "Ingrese un número: 9\n",
            "27\n"
          ]
        }
      ],
      "source": [
        "multiplicar_por_tres = lambda valor: 3 * valor\n",
        "\n",
        "valor = int(input(\"Ingrese un número: \"))\n",
        "print(multiplicar_por_tres(valor))"
      ]
    },
    {
      "cell_type": "markdown",
      "source": [
        "### Ejercicio 3 - Dificultad media:\n",
        "\n",
        "Crear una función lambda que sea equivalente a la siguiente función:\n",
        "\n",
        "```python\n",
        "def sumar(valor1, valor2):\n",
        "    res = valor1 + valor2\n",
        "    return res\n",
        "```\n",
        "\n"
      ],
      "metadata": {
        "id": "lFMmuJuklV0-"
      }
    },
    {
      "cell_type": "code",
      "source": [
        "sumar = lambda valor1, valor2: valor1 + valor2\n",
        "\n",
        "valor1 = int(input(\"Ingrese un número: \"))\n",
        "valor2 = int(input(\"Ingrese otro número: \"))\n",
        "print(sumar(valor1, valor2))"
      ],
      "metadata": {
        "id": "3NR3C_Ninatr",
        "colab": {
          "base_uri": "https://localhost:8080/"
        },
        "outputId": "6a3e73df-40a8-4d08-b239-ea380e4e01dc"
      },
      "execution_count": null,
      "outputs": [
        {
          "output_type": "stream",
          "name": "stdout",
          "text": [
            "Ingrese un número: 6\n",
            "Ingrese otro número: 4\n",
            "10\n"
          ]
        }
      ]
    },
    {
      "cell_type": "markdown",
      "metadata": {
        "id": "9WGmJgP3Waxy"
      },
      "source": [
        "### Ejercicio 4 - Dificultad alta:\n",
        "\n",
        "Crear una función lambda que tome como parámetro una frase y la escriba al revés."
      ]
    },
    {
      "cell_type": "code",
      "execution_count": null,
      "metadata": {
        "id": "Jr85HiB3Waxz",
        "colab": {
          "base_uri": "https://localhost:8080/"
        },
        "outputId": "f967dfc2-903a-4929-c5e9-2eabff663d81"
      },
      "outputs": [
        {
          "output_type": "stream",
          "name": "stdout",
          "text": [
            "Ingrese una frase: Diplomatura en Python\n",
            "> Frase reversada: nohtyP ne arutamolpiD\n"
          ]
        }
      ],
      "source": [
        "reversar = lambda frase: frase[::-1]\n",
        "\n",
        "frase = input(\"Ingrese una frase: \")\n",
        "print(f\"> Frase reversada: {reversar(frase)}\")"
      ]
    },
    {
      "cell_type": "markdown",
      "metadata": {
        "id": "4i3nqkB9Wax0"
      },
      "source": [
        "### Ejercicio 5 - Dificultad media:\n",
        "\n",
        "Cree un programa que utilizando una función, solicite la edad de la persona e imprima todos los años que la persona ha cumplido según el siguiente formato de ejemplo.\n",
        "\n",
        "1, 2, 3, 4, 5\n",
        "\n",
        "Y\n",
        "\n",
        "5, 4, 3, 2, 1"
      ]
    },
    {
      "cell_type": "code",
      "execution_count": null,
      "metadata": {
        "id": "vqHJZVJBWax0",
        "colab": {
          "base_uri": "https://localhost:8080/"
        },
        "outputId": "e64d758c-dba8-4d3e-cb0c-19a6560cc4db"
      },
      "outputs": [
        {
          "output_type": "stream",
          "name": "stdout",
          "text": [
            "Ingrese una edad: 5\n",
            "1, 2, 3, 4, 5\n",
            "Y\n",
            "5, 4, 3, 2, 1\n"
          ]
        }
      ],
      "source": [
        "def procesar_edad(edad):\n",
        "    cadena_arriba = \"\"\n",
        "    cadena_abajo = \"\"\n",
        "    for i in range(1, edad + 1):\n",
        "        cadena_arriba = cadena_arriba + \", \" + str(i)\n",
        "        cadena_abajo = str(i) + \", \" + cadena_abajo\n",
        "\n",
        "    print(f\"{cadena_arriba[2:]}\\nY\\n{cadena_abajo[:-2]}\")\n",
        "\n",
        "edad = int(input(\"Ingrese una edad: \"))\n",
        "procesar_edad(5)"
      ]
    },
    {
      "cell_type": "markdown",
      "source": [
        "### Ejercicio 6 - Dificultad alta:\n",
        "\n",
        "Cree una función que tome la siguiente lista y reordene de menor a mayor sus componentes:\n",
        "\n",
        "[3, 44, 21, 78, 5, 56, 9]"
      ],
      "metadata": {
        "id": "PL4SgOBAnbGq"
      }
    },
    {
      "cell_type": "code",
      "source": [
        "def reordenar(lista):\n",
        "    lista.sort()\n",
        "    return lista\n",
        "\n",
        "lista = [3, 44, 21, 78, 5, 56, 9]\n",
        "print(reordenar(lista))"
      ],
      "metadata": {
        "id": "WZJados3nXD_",
        "colab": {
          "base_uri": "https://localhost:8080/"
        },
        "outputId": "6b5e89f4-000f-4816-8ea9-6af2b605cebe"
      },
      "execution_count": null,
      "outputs": [
        {
          "output_type": "stream",
          "name": "stdout",
          "text": [
            "[3, 5, 9, 21, 44, 56, 78]\n"
          ]
        }
      ]
    },
    {
      "cell_type": "markdown",
      "source": [
        "### Ejercicio 7 - Dificultad muy alta:\n",
        "\n",
        "**isinstance(x, list)** permite consultar si el elemento x es del tipo lista.\n",
        "\n",
        "A partir de la siguiente función recursiva que permite recorrer los niveles de una lista:\n",
        "\n",
        "```python\n",
        "lista = [\"elemento1n1\", \"elemento2n1\", \"elemento3n1\", [\"elemento1n2\", \"elemento2n2\", \"elemento3n2\", [\"elemento1n3\", \"elemento2n3\", \"elemento3n3\"]]]\n",
        "\n",
        "def recorre_lista(item):\n",
        "    for x in item:\n",
        "        if isinstance(x, list):\n",
        "            recorrer_lista(x)\n",
        "        else:\n",
        "            print(x)\n",
        "\n",
        "recorrer_lista(lista)\n",
        "```\n",
        "\n",
        "Optimice el código de forma que el programa considere:\n",
        "\n",
        "- Un valor de lista por defecto\n",
        "- Permita tomar un segundo parámetro que lleve un registro del nivel en el cual se encuentra (en qué grado del anidamiento).\n",
        "- Permita tomar un valor por defecto de cero para el parámetro anterior.\n",
        "- Presente la salida según el siguiente formato:\n",
        "\n",
        "```\n",
        "elemento1n1\n",
        "elemento2n1\n",
        "elemento3n1\n",
        "  elemento1n2\n",
        "  elemento2n2\n",
        "  elemento3n2\n",
        "    elemento1n3\n",
        "    elemento2n3\n",
        "    elemento3n3\n",
        "```\n"
      ],
      "metadata": {
        "id": "qd6_zuIOnnh0"
      }
    },
    {
      "cell_type": "code",
      "source": [
        "lista = [\n",
        "    \"elemento1n1\",\n",
        "    \"elemento2n1\",\n",
        "    \"elemento3n1\",\n",
        "    [\n",
        "        \"elemento1n2\",\n",
        "        \"elemento2n2\",\n",
        "        \"elemento3n2\",\n",
        "        [\"elemento1n3\", \"elemento2n3\", \"elemento3n3\"],\n",
        "    ],\n",
        "]\n",
        "\n",
        "def recorrer_lista(item, nivel=0):\n",
        "    for x in item:\n",
        "        if isinstance(x, list):\n",
        "            recorrer_lista(x, nivel + 1)\n",
        "        else:\n",
        "            print(\"  \" * nivel + x)  # fuerzo la identación con 2 espacios * nivel.\n",
        "\n",
        "recorrer_lista(lista)"
      ],
      "metadata": {
        "id": "5LB0nDOGnW3u",
        "colab": {
          "base_uri": "https://localhost:8080/"
        },
        "outputId": "63cb820e-fc39-48f0-c523-f71698ad8f64"
      },
      "execution_count": null,
      "outputs": [
        {
          "output_type": "stream",
          "name": "stdout",
          "text": [
            "elemento1n1\n",
            "elemento2n1\n",
            "elemento3n1\n",
            "  elemento1n2\n",
            "  elemento2n2\n",
            "  elemento3n2\n",
            "    elemento1n3\n",
            "    elemento2n3\n",
            "    elemento3n3\n"
          ]
        }
      ]
    },
    {
      "cell_type": "markdown",
      "source": [
        "### Ejercicio 8 - Agregado en clase:\n",
        "\n",
        "Crear una función recursiva para calcular el factorial de un número.\n",
        "\n",
        "Ejemplo:\n",
        "\n",
        "factorial 4! = 24"
      ],
      "metadata": {
        "id": "TanPGw8EAKGX"
      }
    },
    {
      "cell_type": "code",
      "source": [
        "def factorial(num):\n",
        "    if num == 0 or num == 1:\n",
        "        return 1\n",
        "    else:\n",
        "        return num * factorial(num - 1)\n",
        "\n",
        "num = int(input(\"Ingrese un número: \"))\n",
        "print(f\"factorial {num}! = {factorial(num)}\")\n"
      ],
      "metadata": {
        "id": "ZghsW-YYBWzI",
        "outputId": "61992b1e-d6ff-4e46-e60f-4af1416efddd",
        "colab": {
          "base_uri": "https://localhost:8080/"
        }
      },
      "execution_count": null,
      "outputs": [
        {
          "output_type": "stream",
          "name": "stdout",
          "text": [
            "Ingrese un número: 4\n",
            "factorial 4! = 24\n"
          ]
        }
      ]
    }
  ],
  "metadata": {
    "kernelspec": {
      "display_name": "Python 3 (ipykernel)",
      "language": "python",
      "name": "python3"
    },
    "language_info": {
      "codemirror_mode": {
        "name": "ipython",
        "version": 3
      },
      "file_extension": ".py",
      "mimetype": "text/x-python",
      "name": "python",
      "nbconvert_exporter": "python",
      "pygments_lexer": "ipython3",
      "version": "3.11.5"
    },
    "colab": {
      "provenance": [],
      "toc_visible": true,
      "include_colab_link": true
    }
  },
  "nbformat": 4,
  "nbformat_minor": 0
}