{
  "cells": [
    {
      "cell_type": "markdown",
      "metadata": {
        "id": "view-in-github",
        "colab_type": "text"
      },
      "source": [
        "<a href=\"https://colab.research.google.com/github/GonzaloMartin/UTN-Diplomatura-en-Python/blob/main/Python3%20-%20Nivel%20Inicial/Python3%20Inicial%20-%20Unidad%204.ipynb\" target=\"_parent\"><img src=\"https://colab.research.google.com/assets/colab-badge.svg\" alt=\"Open In Colab\"/></a>"
      ]
    },
    {
      "cell_type": "markdown",
      "metadata": {
        "id": "oFKlguwdWaxj"
      },
      "source": [
        "# DIPLOMATURA EN PYTHON\n",
        "\n",
        "### UNIDAD DIDÁCTICA 4\n",
        "\n",
        "- Módulo I – Nivel Inicial I.\n",
        "- Unidad IV.\n",
        "\n",
        "#### _Resueltos de [@GonzaloMartin](https://github.com/GonzaloMartin)._"
      ]
    },
    {
      "cell_type": "markdown",
      "source": [
        "## Ejercicios:\n",
        "\n",
        "Para trabajar con funciones lambda se debe guardar en una variable y luego pasar los parámetros de entrada a la variable como al llamar a una función, de esta forma:\n",
        "\n",
        "```python\n",
        "variable = lambda parámetro1, parámetro2, ..., parametroN : operación_sobre_parametros\n",
        "print(variable(parámetro1, parámetro2, ..., parametroN))\n",
        "```\n",
        "\n",
        "\n",
        "\n"
      ],
      "metadata": {
        "id": "IvT_gsM8zlis"
      }
    },
    {
      "cell_type": "markdown",
      "metadata": {
        "id": "kDwGsuBiWaxp"
      },
      "source": [
        "### Ejercicio 1 - Dificultad baja:\n",
        "\n",
        "Cree una función lamba que compruebe si un número es par o impar."
      ]
    },
    {
      "cell_type": "code",
      "execution_count": 2,
      "metadata": {
        "id": "FxwX8IaiWaxq",
        "outputId": "ef1e0e50-7c92-4bb2-ebce-8a2a3482c1e9",
        "colab": {
          "base_uri": "https://localhost:8080/"
        }
      },
      "outputs": [
        {
          "output_type": "stream",
          "name": "stdout",
          "text": [
            "Ingrese un número: 10\n",
            "El número 10 es par.\n"
          ]
        }
      ],
      "source": [
        "check_paridad = lambda numero: numero % 2 == 0\n",
        "\n",
        "numero = int(input(\"Ingrese un número: \"))\n",
        "if check_paridad(numero):\n",
        "    print(f\"El número {numero} es par.\")\n",
        "else:\n",
        "    print(f\"El número {numero} es impar.\")"
      ]
    },
    {
      "cell_type": "markdown",
      "metadata": {
        "id": "fxYb2kgCWaxw"
      },
      "source": [
        "### Ejercicio 2 - Dificultad media:\n",
        "\n",
        "Crear una función lambda que sea equivalente a la siguiente función:\n",
        "\n",
        "```python\n",
        "def multiplicar_por_tres(valor):\n",
        "    res = 3 * valor\n",
        "    return res\n",
        "```"
      ]
    },
    {
      "cell_type": "code",
      "execution_count": 4,
      "metadata": {
        "id": "WGgGV2bXWaxx",
        "outputId": "cbec7926-3ea8-4d23-de2f-72a5e2e0f942",
        "colab": {
          "base_uri": "https://localhost:8080/"
        }
      },
      "outputs": [
        {
          "output_type": "stream",
          "name": "stdout",
          "text": [
            "Ingrese un número: 9\n",
            "27\n"
          ]
        }
      ],
      "source": [
        "multiplicar_por_tres = lambda valor: 3 * valor\n",
        "\n",
        "valor = int(input(\"Ingrese un número: \"))\n",
        "print(multiplicar_por_tres(valor))"
      ]
    },
    {
      "cell_type": "markdown",
      "source": [
        "### Ejercicio 3 - Dificultad media:\n",
        "\n",
        "Crear una función lambda que sea equivalente a la siguiente función:\n",
        "\n",
        "```python\n",
        "def sumar(valor1, valor2):\n",
        "    res = valor1 + valor2\n",
        "    return res\n",
        "```\n",
        "\n"
      ],
      "metadata": {
        "id": "lFMmuJuklV0-"
      }
    },
    {
      "cell_type": "code",
      "source": [
        "sumar = lambda valor1, valor2: valor1 + valor2\n",
        "\n",
        "valor1 = int(input(\"Ingrese un número: \"))\n",
        "valor2 = int(input(\"Ingrese otro número: \"))\n",
        "print(sumar(valor1, valor2))"
      ],
      "metadata": {
        "id": "3NR3C_Ninatr",
        "outputId": "6a3e73df-40a8-4d08-b239-ea380e4e01dc",
        "colab": {
          "base_uri": "https://localhost:8080/"
        }
      },
      "execution_count": 10,
      "outputs": [
        {
          "output_type": "stream",
          "name": "stdout",
          "text": [
            "Ingrese un número: 6\n",
            "Ingrese otro número: 4\n",
            "10\n"
          ]
        }
      ]
    },
    {
      "cell_type": "markdown",
      "metadata": {
        "id": "9WGmJgP3Waxy"
      },
      "source": [
        "### Ejercicio 4 - Dificultad alta:\n",
        "\n",
        "Crear una función lambda que tome como parámetro una frase y la escriba al revés."
      ]
    },
    {
      "cell_type": "code",
      "execution_count": 22,
      "metadata": {
        "id": "Jr85HiB3Waxz",
        "outputId": "dc83edab-0cc5-4761-f6c3-18c3fd044258",
        "colab": {
          "base_uri": "https://localhost:8080/"
        }
      },
      "outputs": [
        {
          "output_type": "stream",
          "name": "stdout",
          "text": [
            "Ingrese una frase: Diplomatura en Python\n",
            "nohtyP ne arutamolpiD\n"
          ]
        }
      ],
      "source": [
        "reversar = lambda frase: frase[::-1]\n",
        "\n",
        "frase = input(\"Ingrese una frase: \")\n",
        "print(reversar(frase))"
      ]
    },
    {
      "cell_type": "markdown",
      "metadata": {
        "id": "4i3nqkB9Wax0"
      },
      "source": [
        "### Ejercicio 5 - Dificultad media:\n",
        "\n",
        "Cree un programa que utilizando una función, solicite la edad de la persona e imprima todos los años que la persona ha cumplido según el siguiente formato de ejemplo.\n",
        "\n",
        "1, 2, 3, 4, 5\n",
        "\n",
        "Y\n",
        "\n",
        "5, 4, 3, 2, 1"
      ]
    },
    {
      "cell_type": "code",
      "execution_count": null,
      "metadata": {
        "id": "vqHJZVJBWax0"
      },
      "outputs": [],
      "source": []
    },
    {
      "cell_type": "markdown",
      "source": [
        "### Ejercicio 6 - Dificultad alta:\n",
        "\n",
        "Cree una función que tome la siguiente lista y reordene de menor a mayor sus componentes:\n",
        "\n",
        "[3, 44, 21, 78, 5, 56, 9]"
      ],
      "metadata": {
        "id": "PL4SgOBAnbGq"
      }
    },
    {
      "cell_type": "code",
      "source": [
        "# Esto puede hacerse con la función sort(), pero como el enunciado pide que cree una función, lo haré de forma manual:\n",
        "\n",
        "def ordenar(lista):\n",
        "    # TOOD: ordenamiento manual\n",
        "    pass\n",
        "\n",
        "lista = [3, 44, 21, 78, 5, 56, 9]\n",
        "print(ordenar(lista))"
      ],
      "metadata": {
        "id": "WZJados3nXD_"
      },
      "execution_count": null,
      "outputs": []
    },
    {
      "cell_type": "markdown",
      "source": [
        "### Ejercicio 7 - Dificultad muy alta:\n",
        "\n",
        "**isinstance(x, list)** permite consultar si el elemento x es del tipo lista.\n",
        "\n",
        "A partir de la siguiente función recursiva que permite recorrer los niveles de una lista:\n",
        "\n",
        "```python\n",
        "lista = [\"elemento1n1\", \"elemento2n1\", \"elemento3n1\", [\"elemento1n2\", \"elemento2n2\", \"elemento3n2\", [\"elemento1n3\", \"elemento2n3\", \"elemento3n3\"]]]\n",
        "\n",
        "def recorre_lista(item):\n",
        "    for x in item:\n",
        "        if isinstance(x, list):\n",
        "            recorrer_lista(x)\n",
        "        else:\n",
        "            print(x)\n",
        "\n",
        "recorrer_lista(lista)\n",
        "```\n",
        "\n",
        "Optimice el código de forma que el programa considere:\n",
        "\n",
        "- Un valor de lista por defecto\n",
        "- Permita tomar un segundo parámetro que lleve un registro del nivel en el cual se encuentra (en qué grado del anidamiento).\n",
        "- Permita tomar un valor por defecto de cero para el parámetro anterior.\n",
        "- Presente la salida según el siguiente formato:\n",
        "\n",
        "```\n",
        "elemento1n1\n",
        "elemento2n1\n",
        "elemento3n1\n",
        "  elemento1n2\n",
        "  elemento2n2\n",
        "  elemento3n2\n",
        "    elemento1n3\n",
        "    elemento2n3\n",
        "    elemento3n3\n",
        "```\n"
      ],
      "metadata": {
        "id": "qd6_zuIOnnh0"
      }
    },
    {
      "cell_type": "code",
      "source": [],
      "metadata": {
        "id": "5LB0nDOGnW3u"
      },
      "execution_count": null,
      "outputs": []
    }
  ],
  "metadata": {
    "kernelspec": {
      "display_name": "Python 3 (ipykernel)",
      "language": "python",
      "name": "python3"
    },
    "language_info": {
      "codemirror_mode": {
        "name": "ipython",
        "version": 3
      },
      "file_extension": ".py",
      "mimetype": "text/x-python",
      "name": "python",
      "nbconvert_exporter": "python",
      "pygments_lexer": "ipython3",
      "version": "3.11.5"
    },
    "colab": {
      "provenance": [],
      "toc_visible": true,
      "include_colab_link": true
    }
  },
  "nbformat": 4,
  "nbformat_minor": 0
}