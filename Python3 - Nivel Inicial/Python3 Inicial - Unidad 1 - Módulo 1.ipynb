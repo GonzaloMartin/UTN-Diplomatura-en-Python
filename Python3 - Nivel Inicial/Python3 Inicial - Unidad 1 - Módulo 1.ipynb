{
  "cells": [
    {
      "cell_type": "markdown",
      "metadata": {
        "id": "view-in-github",
        "colab_type": "text"
      },
      "source": [
        "<a href=\"https://colab.research.google.com/github/GonzaloMartin/UTN-Diplomatura-en-Python/blob/main/Python3%20-%20Nivel%20Inicial/Python3%20Inicial%20-%20Unidad%201%20-%20M%C3%B3dulo%201.ipynb\" target=\"_parent\"><img src=\"https://colab.research.google.com/assets/colab-badge.svg\" alt=\"Open In Colab\"/></a>"
      ]
    },
    {
      "cell_type": "markdown",
      "metadata": {
        "id": "oFKlguwdWaxj"
      },
      "source": [
        "# DIPLOMATURA EN PYTHON\n",
        "\n",
        "### UNIDAD DIDÁCTICA 1\n",
        "\n",
        "- Módulo I – Nivel Inicial I.\n",
        "- Unidad I – Introducción.\n",
        "\n",
        "#### _Resueltos de [@GonzaloMartin](https://github.com/GonzaloMartin)._\n"
      ]
    },
    {
      "cell_type": "markdown",
      "metadata": {
        "id": "kDwGsuBiWaxp"
      },
      "source": [
        "### Ejercicio 1:\n",
        "\n",
        "Cree un programa que tome tres valores por consola multiplique el primero por el segundo y le sume el tercero.\n",
        "\n",
        "Presente el resultado en la terminal."
      ]
    },
    {
      "cell_type": "code",
      "execution_count": null,
      "metadata": {
        "colab": {
          "base_uri": "https://localhost:8080/"
        },
        "id": "FxwX8IaiWaxq",
        "outputId": "1c925f27-f843-42ca-a9cc-3651c6ba0ade"
      },
      "outputs": [
        {
          "output_type": "stream",
          "name": "stdout",
          "text": [
            "Ingrese el valor 1: 5\n",
            "Ingrese el valor 2: 5\n",
            "Ingrese el valor 3: 25\n",
            "El resultado de multiplicar 5 por 5 y sumarle 25 es:  50\n"
          ]
        }
      ],
      "source": [
        "val = []\n",
        "for i in range(3):\n",
        "    info = int(input(f\"Ingrese el valor {i+1}: \"))\n",
        "    val.append(info)\n",
        "\n",
        "print(f\"El resultado de multiplicar {val[0]} por {val[1]} y sumarle {val[2]} es: \", (val[0] * val[1]) + val[2])"
      ]
    },
    {
      "cell_type": "markdown",
      "metadata": {
        "id": "RVbjhyJYWaxu"
      },
      "source": [
        "### Ejercicio 2:\n",
        "\n",
        "Cree un programa que incorpore el módulo sys, al cual desde la terminal se le puedan pasar tres parámetros.\n",
        "\n",
        "El programa debe tomar los parámetros e indicar en la terminal si son múltiplos de dos."
      ]
    },
    {
      "cell_type": "code",
      "execution_count": null,
      "metadata": {
        "id": "tiOaIgg7Waxv"
      },
      "outputs": [],
      "source": [
        "# Nota: La resolución de este problema no funciona en Jupyter. Sugiero usar un IDE.\n",
        "\n",
        "import sys\n",
        "\n",
        "argumentos = sys.argv[1:] if len(sys.argv) > 1 else ['2', '4', '8']  # Obtener argumentos desde la consola.\n",
        "\n",
        "if len(argumentos) == 3:  # Si hay 3 argumentos...\n",
        "    for argu in argumentos:  # Los itero\n",
        "        if es_multiplo := int(argu) % 2 == 0:  # Pregunto si cada uno es múltiplo de 2.\n",
        "            print(f\"El argumento {argu} es múltiplo de dos.\")\n",
        "        else:\n",
        "            print(f\"El argumento {argu} no es múltiplo de dos.\")\n",
        "else:\n",
        "    print(\"Error: Debes proporcionar exactamente tres argumentos numéricos.\")"
      ]
    },
    {
      "cell_type": "markdown",
      "metadata": {
        "id": "fxYb2kgCWaxw"
      },
      "source": [
        "### Ejercicio 3:\n",
        "\n",
        "Escriba un programa que solicite el perímetro. Presente el resultado en la terminal del editor.\n",
        "\n",
        "Utilice la siguiente fórmula:  L = 2 * π * r\n",
        "\n",
        "- L = Longitud de perímetro.\n",
        "- π = Número pí igual a 3.1416.\n",
        "- r = Radio"
      ]
    },
    {
      "cell_type": "code",
      "execution_count": null,
      "metadata": {
        "colab": {
          "base_uri": "https://localhost:8080/"
        },
        "id": "WGgGV2bXWaxx",
        "outputId": "3638b4cf-2430-49e2-c971-cf78ed226922"
      },
      "outputs": [
        {
          "output_type": "stream",
          "name": "stdout",
          "text": [
            "Ingresa el radio: 10\n",
            "La longitud del perímetro es: 62.832\n"
          ]
        }
      ],
      "source": [
        "radio = float(input(\"Ingresa el radio: \").replace(\",\", \".\"))\n",
        "perimetro = 2 * 3.1416 * radio\n",
        "print(f\"La longitud del perímetro es: {perimetro}\")"
      ]
    },
    {
      "cell_type": "markdown",
      "metadata": {
        "id": "9WGmJgP3Waxy"
      },
      "source": [
        "### Ejercicio 4:\n",
        "\n",
        "Escriba un programa que solicite el radio de una circunferencia y permita calcular el área. Presente el resultado en la terminal del editor.\n",
        "\n",
        "Utilice la siguiente fórmula:  A = π * r^2\n",
        "\n",
        "- A = Área\n",
        "- π = Número pí igual a 3.1416\n",
        "- r = Radio\n",
        "- r^2 = radio elevado al cuadrado"
      ]
    },
    {
      "cell_type": "code",
      "execution_count": null,
      "metadata": {
        "colab": {
          "base_uri": "https://localhost:8080/"
        },
        "id": "Jr85HiB3Waxz",
        "outputId": "574717b8-5ec2-47ef-bfb4-a72e3deb61b0"
      },
      "outputs": [
        {
          "output_type": "stream",
          "name": "stdout",
          "text": [
            "Ingresa el radio: 20\n",
            "El área de la circunferencia es: 1256.64\n"
          ]
        }
      ],
      "source": [
        "radio = float(input(\"Ingresa el radio: \").replace(\",\", \".\"))\n",
        "area = 3.1416 * radio * radio\n",
        "print(f\"El área de la circunferencia es: {area}\")"
      ]
    },
    {
      "cell_type": "markdown",
      "metadata": {
        "id": "4i3nqkB9Wax0"
      },
      "source": [
        "### Ejercicio 5:\n",
        "\n",
        "Escriba un programa que solicite un valor entero por pantalla y presente en la terminal del editor el valor incrementado en un 10%."
      ]
    },
    {
      "cell_type": "code",
      "execution_count": null,
      "metadata": {
        "colab": {
          "base_uri": "https://localhost:8080/"
        },
        "id": "vqHJZVJBWax0",
        "outputId": "620495ec-7f98-4d75-dce9-27e91d66b49c"
      },
      "outputs": [
        {
          "output_type": "stream",
          "name": "stdout",
          "text": [
            "Ingresa un valor entero: 10\n",
            "El valor incrementado a un 10% de 10 es: 11.0\n"
          ]
        }
      ],
      "source": [
        "val = int(input(\"Ingresa un valor entero: \"))\n",
        "print(f\"El valor incrementado a un 10% de {val} es: {val * 1.1}\")  # 1.1 representa el valor sumado su 10%"
      ]
    }
  ],
  "metadata": {
    "kernelspec": {
      "display_name": "Python 3 (ipykernel)",
      "language": "python",
      "name": "python3"
    },
    "language_info": {
      "codemirror_mode": {
        "name": "ipython",
        "version": 3
      },
      "file_extension": ".py",
      "mimetype": "text/x-python",
      "name": "python",
      "nbconvert_exporter": "python",
      "pygments_lexer": "ipython3",
      "version": "3.11.5"
    },
    "colab": {
      "provenance": [],
      "include_colab_link": true
    }
  },
  "nbformat": 4,
  "nbformat_minor": 0
}