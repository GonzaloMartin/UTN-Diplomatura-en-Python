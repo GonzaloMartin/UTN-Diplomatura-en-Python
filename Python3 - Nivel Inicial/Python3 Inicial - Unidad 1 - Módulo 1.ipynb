{
 "cells": [
  {
   "cell_type": "markdown",
   "metadata": {},
   "source": [
    "# DIPLOMATURA EN PYTHON\n",
    "\n",
    "### UNIDAD DIDÁCTICA 1\n",
    "\n",
    "- Módulo I – Nivel Inicial I\n",
    "- Unidad I – Introducción\n"
   ]
  },
  {
   "cell_type": "markdown",
   "metadata": {},
   "source": [
    "### Ejercicio 1:\n",
    "\n",
    "Cree un programa que tome tres valores por consola multiplique el primero por el segundo y le sume el tercero.\n",
    "Presente el resultado en la terminal."
   ]
  },
  {
   "cell_type": "code",
   "execution_count": null,
   "metadata": {},
   "outputs": [],
   "source": [
    "val = []\n",
    "for i in range(3):\n",
    "    info = int(input(f\"Ingrese el valor {i+1}: \"))\n",
    "    val.append(info)\n",
    "\n",
    "print(f\"El resultado de multiplicar {val[0]} por {val[1]} y sumarle {val[2]} es: \", (val[0] * val[1]) + val[2])"
   ]
  },
  {
   "cell_type": "markdown",
   "metadata": {},
   "source": [
    "### Ejercicio 2:\n",
    "\n",
    "Cree un programa que incorpore el módulo sys, al cual desde la terminal se le puedan pasar tres parámetros.\n",
    "El programa debe tomar los parámetros e indicar en la terminal si son múltiplos de dos."
   ]
  },
  {
   "cell_type": "code",
   "execution_count": null,
   "metadata": {},
   "outputs": [],
   "source": [
    "# Nota: La resolución de este problema no funciona en Jupyter. Sugiero usar un IDE.\n",
    "\n",
    "import sys\n",
    "\n",
    "argumentos = sys.argv[1:] if len(sys.argv) > 1 else ['2', '4', '8']  # Obtener argumentos desde la consola.\n",
    "\n",
    "if len(argumentos) == 3:  # Si hay 3 argumentos...\n",
    "    for argu in argumentos:  # Los itero\n",
    "        if es_multiplo := int(argu) % 2 == 0:  # Pregunto si cada uno es múltiplo de 2.\n",
    "            print(f\"El argumento {argu} es múltiplo de dos.\")\n",
    "        else:\n",
    "            print(f\"El argumento {argu} no es múltiplo de dos.\")\n",
    "else:\n",
    "    print(\"Error: Debes proporcionar exactamente tres argumentos numéricos.\")"
   ]
  },
  {
   "cell_type": "markdown",
   "metadata": {},
   "source": [
    "### Ejercicio 3:\n",
    "\n",
    "Escriba un programa que solicite el perímetro. Presente el resultado en la terminal del editor.\n",
    "Utilice la siguiente fórmula:  L = 2 * π * r\n",
    "\n",
    "- L = Longitud de perímetro.\n",
    "- π = Número pí igual a 3.1416.\n",
    "- r = Radio"
   ]
  },
  {
   "cell_type": "code",
   "execution_count": null,
   "metadata": {},
   "outputs": [],
   "source": [
    "radio = float(input(\"Ingresa el radio: \").replace(\",\", \".\"))\n",
    "perimetro = 2 * 3.1416 * radio\n",
    "print(f\"La longitud del perímetro es: {perimetro}\")"
   ]
  },
  {
   "cell_type": "markdown",
   "metadata": {},
   "source": [
    "### Ejercicio 4:\n",
    "\n",
    "Escriba un programa que solicite el radio de una circunferencia y permita calcular el área. Presente el resultado en la terminal del editor.\n",
    "Utilice la siguiente fórmula:  A = π * r^2\n",
    "\n",
    "- A = Área\n",
    "- π = Número pí igual a 3.1416\n",
    "- r = Radio\n",
    "- r^2 = radio elevado al cuadrado"
   ]
  },
  {
   "cell_type": "code",
   "execution_count": null,
   "metadata": {},
   "outputs": [],
   "source": [
    "radio = float(input(\"Ingresa el radio: \").replace(\",\", \".\"))\n",
    "area = 3.1416 * radio * radio\n",
    "print(f\"El área de la circunferencia es: {area}\")"
   ]
  },
  {
   "cell_type": "markdown",
   "metadata": {},
   "source": [
    "### Ejercicio 5:\n",
    "\n",
    "Escriba un programa que solicite un valor entero por pantalla y presente en la terminal del editor el valor incrementado en un 10%."
   ]
  },
  {
   "cell_type": "code",
   "execution_count": null,
   "metadata": {},
   "outputs": [],
   "source": [
    "val = int(input(\"Ingresa un valor entero: \"))\n",
    "print(f\"El valor incrementado a un 10% de {val} es: {val * 1.1}\")  # 1.1 representa el valor sumado su 10%"
   ]
  }
 ],
 "metadata": {
  "kernelspec": {
   "display_name": "Python 3 (ipykernel)",
   "language": "python",
   "name": "python3"
  },
  "language_info": {
   "codemirror_mode": {
    "name": "ipython",
    "version": 3
   },
   "file_extension": ".py",
   "mimetype": "text/x-python",
   "name": "python",
   "nbconvert_exporter": "python",
   "pygments_lexer": "ipython3",
   "version": "3.11.5"
  }
 },
 "nbformat": 4,
 "nbformat_minor": 4
}
