{
  "cells": [
    {
      "cell_type": "markdown",
      "metadata": {
        "id": "view-in-github",
        "colab_type": "text"
      },
      "source": [
        "<a href=\"https://colab.research.google.com/github/GonzaloMartin/UTN-Diplomatura-en-Python/blob/main/Python3%20-%20Nivel%20Inicial/Python3%20Inicial%20-%20Unidad%201%20-%20M%C3%B3dulo%202.ipynb\" target=\"_parent\"><img src=\"https://colab.research.google.com/assets/colab-badge.svg\" alt=\"Open In Colab\"/></a>"
      ]
    },
    {
      "cell_type": "markdown",
      "metadata": {
        "id": "oFKlguwdWaxj"
      },
      "source": [
        "# DIPLOMATURA EN PYTHON\n",
        "\n",
        "### UNIDAD DIDÁCTICA 2\n",
        "\n",
        "- Módulo I – Nivel Inicial I.\n",
        "- Unidad II – Introducción.\n",
        "\n",
        "#### _Resueltos de [@GonzaloMartin](https://github.com/GonzaloMartin)._\n"
      ]
    },
    {
      "cell_type": "markdown",
      "metadata": {
        "id": "kDwGsuBiWaxp"
      },
      "source": [
        "### Ejercicio 1  (Este es el ejercicio 2 de la unidad 1 pero implementando if/else):\n",
        "\n",
        "Cree un programa que incorpore el módulo sys, al cual desde la terminal se le puedan pasar tres parámetros.\n",
        "\n",
        "El programa debe tomar los parámetros e indicar en la terminal si son múltiplos de dos.  **Utilice la estructura if/else.**"
      ]
    },
    {
      "cell_type": "code",
      "execution_count": null,
      "metadata": {
        "id": "FxwX8IaiWaxq"
      },
      "outputs": [],
      "source": [
        "# Nota: La resolución de este problema no funciona en Jupyter. Sugiero usar un IDE.\n",
        "\n",
        "import sys\n",
        "\n",
        "argumentos = sys.argv[1:] if len(sys.argv) > 1 else ['2', '4', '8']  # Obtener argumentos desde la consola.\n",
        "\n",
        "if len(argumentos) == 3:  # Si hay 3 argumentos...\n",
        "    for argu in argumentos:  # Los itero\n",
        "        if es_multiplo := int(argu) % 2 == 0:  # Pregunto si cada uno es múltiplo de 2.\n",
        "            print(f\"El argumento {argu} es múltiplo de dos.\")\n",
        "        else:\n",
        "            print(f\"El argumento {argu} no es múltiplo de dos.\")\n",
        "else:\n",
        "    print(\"Error: Debes proporcionar exactamente tres argumentos numéricos.\")"
      ]
    },
    {
      "cell_type": "markdown",
      "metadata": {
        "id": "fxYb2kgCWaxw"
      },
      "source": [
        "### Ejercicio 2:\n",
        "\n",
        "Cree una lista de frutas de 2 elementos, y realice un programa que muestre una oración conteniendo los dos elementos de la lista concatenándolos con texto para formar una oración con sentido.\n",
        "\n",
        "Presente el resultado en la terminal del editor."
      ]
    },
    {
      "cell_type": "code",
      "execution_count": 1,
      "metadata": {
        "id": "WGgGV2bXWaxx",
        "outputId": "51e07138-ec84-462e-fc64-b2a8048604a7",
        "colab": {
          "base_uri": "https://localhost:8080/"
        }
      },
      "outputs": [
        {
          "output_type": "stream",
          "name": "stdout",
          "text": [
            "Me gusta comprar naranjas y mandarinas sin pepas.\n"
          ]
        }
      ],
      "source": [
        "frutas = [\"naranjas\", \"mandarinas\"]\n",
        "oracion = f\"Me gusta comprar {frutas[0]} y {frutas[1]} sin pepas.\"\n",
        "print(oracion)\n"
      ]
    },
    {
      "cell_type": "markdown",
      "source": [
        "### Ejercicio 3:\n",
        "\n",
        "Tome dos valores por consola, y guarde en una lista:\n",
        "\n",
        "[primer_valor, segundo_valor, la_suma_de_los_valores]\n",
        "\n",
        "Presente el resultado en la terminal del editor."
      ],
      "metadata": {
        "id": "lFMmuJuklV0-"
      }
    },
    {
      "cell_type": "code",
      "source": [
        "valor1 = input(\"Ingrese un valor numérico: \")\n",
        "valor2 = input(\"Ingrese otro valor numérico: \")\n",
        "lista = [valor1, valor2, int(valor1) + int(valor2)]\n",
        "print(lista)"
      ],
      "metadata": {
        "id": "3NR3C_Ninatr",
        "outputId": "44bae148-111f-4255-b1d5-1d69573b1d01",
        "colab": {
          "base_uri": "https://localhost:8080/"
        }
      },
      "execution_count": 3,
      "outputs": [
        {
          "output_type": "stream",
          "name": "stdout",
          "text": [
            "Ingrese un valor numérico: 5\n",
            "Ingrese otro valor numérico: 5\n",
            "['5', '5', 10]\n"
          ]
        }
      ]
    },
    {
      "cell_type": "markdown",
      "metadata": {
        "id": "9WGmJgP3Waxy"
      },
      "source": [
        "### Ejercicio 4:\n",
        "\n",
        "Realice un programa que consulte la edad y en caso de que el valor ingresado supere la\n",
        "fecha de jubilación, presente en la terminal el mensaje \"Ya está en edad de jibularse\".\n",
        "\n",
        "En caso contrario que presente \"Aún está en edad de trabajar\"."
      ]
    },
    {
      "cell_type": "code",
      "execution_count": 4,
      "metadata": {
        "id": "Jr85HiB3Waxz",
        "outputId": "91a82358-4487-4df7-d556-2b43be7a2756",
        "colab": {
          "base_uri": "https://localhost:8080/"
        }
      },
      "outputs": [
        {
          "output_type": "stream",
          "name": "stdout",
          "text": [
            "Ingrese su edad: 38\n",
            "Aún está en edad de trabajar\n"
          ]
        }
      ],
      "source": [
        "edad = int(input(\"Ingrese su edad: \"))\n",
        "if edad >= 65:\n",
        "    print(\"Ya está en edad de jibularse.\")\n",
        "else:\n",
        "    print(\"Aún está en edad de trabajar\")"
      ]
    },
    {
      "cell_type": "markdown",
      "metadata": {
        "id": "4i3nqkB9Wax0"
      },
      "source": [
        "### Ejercicio 5:\n",
        "\n",
        "Realice nuevamente los ejercicios de la unidad 1 (3, 4 y 5), pero tratando de utilizar una función, de forma que la operación se realice dentro de la misma.\n",
        "\n",
        "Presente el resultado en la terminal del editor."
      ]
    },
    {
      "cell_type": "code",
      "execution_count": 6,
      "metadata": {
        "id": "vqHJZVJBWax0",
        "outputId": "b0d7d96c-2977-4e5a-cc45-938f09789899",
        "colab": {
          "base_uri": "https://localhost:8080/"
        }
      },
      "outputs": [
        {
          "output_type": "stream",
          "name": "stdout",
          "text": [
            "Ingresa el radio: 10\n",
            "La longitud del perímetro es: 62.832\n"
          ]
        }
      ],
      "source": [
        "# Unidad 1 - Ejercicio 3:\n",
        "# Escriba un programa que solicite el perímetro. Presente el resultado en la terminal del editor.\n",
        "# Utilice la siguiente fórmula: L = 2 * π * r\n",
        "\n",
        "def calcular_perimetro(radio):\n",
        "    perimetro = 2 * 3.1416 * radio\n",
        "    return perimetro\n",
        "\n",
        "radio = float(input(\"Ingresa el radio: \").replace(\",\", \".\"))\n",
        "perimetro = calcular_perimetro(radio)\n",
        "print(f\"La longitud del perímetro es: {perimetro}\")"
      ]
    },
    {
      "cell_type": "code",
      "source": [
        "# Unidad 1 - Ejercicio 4:\n",
        "# Escriba un programa que solicite el radio de una circunferencia y permita calcular el área. Presente el resultado en la terminal del editor.\n",
        "# Utilice la siguiente fórmula: A = π * r^2\n",
        "\n",
        "def calcular_area(radio):\n",
        "    area = 3.1416 * radio ** 2\n",
        "    return area\n",
        "\n",
        "radio = float(input(\"Ingresa el radio: \").replace(\",\", \".\"))\n",
        "area = calcular_area(radio)\n",
        "print(f\"El área de la circunferencia es: {area}\")"
      ],
      "metadata": {
        "id": "WZJados3nXD_",
        "outputId": "e9b657d1-865a-42e7-dd6b-e0e0730c411b",
        "colab": {
          "base_uri": "https://localhost:8080/"
        }
      },
      "execution_count": 11,
      "outputs": [
        {
          "output_type": "stream",
          "name": "stdout",
          "text": [
            "Ingresa el radio: 20\n",
            "El área de la circunferencia es: 1256.6399999999999\n"
          ]
        }
      ]
    },
    {
      "cell_type": "code",
      "source": [
        "# Unidad 1 - Ejercicio 5:\n",
        "# Escriba un programa que solicite un valor entero por pantalla y presente en la terminal del editor el valor incrementado en un 10%.\n",
        "\n",
        "def incrementar_valor(valor, porcentaje):\n",
        "    valor = valor + (valor * (porcentaje / 100))  # o sino multiplicar valor * 1.1\n",
        "    return valor\n",
        "\n",
        "val = int(input(\"Ingresa un valor entero: \"))\n",
        "valor_incrementado = incrementar_valor(val, 10)\n",
        "print(f\"El valor incrementado a un 10% de {val} es: {valor_incrementado}\")  # 1.1 representa el valor sumado su 10%"
      ],
      "metadata": {
        "id": "5LB0nDOGnW3u",
        "outputId": "bbe34a98-dd36-48e3-9672-a71eafe81b26",
        "colab": {
          "base_uri": "https://localhost:8080/"
        }
      },
      "execution_count": 14,
      "outputs": [
        {
          "output_type": "stream",
          "name": "stdout",
          "text": [
            "Ingresa un valor entero: 10\n",
            "El valor incrementado a un 10% de 10 es: 11.0\n"
          ]
        }
      ]
    }
  ],
  "metadata": {
    "kernelspec": {
      "display_name": "Python 3 (ipykernel)",
      "language": "python",
      "name": "python3"
    },
    "language_info": {
      "codemirror_mode": {
        "name": "ipython",
        "version": 3
      },
      "file_extension": ".py",
      "mimetype": "text/x-python",
      "name": "python",
      "nbconvert_exporter": "python",
      "pygments_lexer": "ipython3",
      "version": "3.11.5"
    },
    "colab": {
      "provenance": [],
      "include_colab_link": true
    }
  },
  "nbformat": 4,
  "nbformat_minor": 0
}