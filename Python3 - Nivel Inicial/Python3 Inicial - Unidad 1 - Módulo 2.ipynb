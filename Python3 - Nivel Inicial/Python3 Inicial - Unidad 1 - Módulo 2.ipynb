{
  "cells": [
    {
      "cell_type": "markdown",
      "metadata": {
        "id": "view-in-github",
        "colab_type": "text"
      },
      "source": [
        "<a href=\"https://colab.research.google.com/github/GonzaloMartin/UTN-Diplomatura-en-Python/blob/main/Python3%20-%20Nivel%20Inicial/Python3%20Inicial%20-%20Unidad%201%20-%20M%C3%B3dulo%202.ipynb\" target=\"_parent\"><img src=\"https://colab.research.google.com/assets/colab-badge.svg\" alt=\"Open In Colab\"/></a>"
      ]
    },
    {
      "cell_type": "markdown",
      "metadata": {
        "id": "oFKlguwdWaxj"
      },
      "source": [
        "# DIPLOMATURA EN PYTHON\n",
        "\n",
        "### UNIDAD DIDÁCTICA 2\n",
        "\n",
        "- Módulo I – Nivel Inicial I.\n",
        "- Unidad II – Introducción.\n",
        "\n",
        "#### _Resueltos de [@GonzaloMartin](https://github.com/GonzaloMartin)._\n"
      ]
    },
    {
      "cell_type": "markdown",
      "metadata": {
        "id": "kDwGsuBiWaxp"
      },
      "source": [
        "### Ejercicio 1  (Este es el ejercicio 2 de la unidad 1 pero implementando if/else):\n",
        "\n",
        "Cree un programa que incorpore el módulo sys, al cual desde la terminal se le puedan pasar tres parámetros.\n",
        "\n",
        "El programa debe tomar los parámetros e indicar en la terminal si son múltiplos de dos.  **Utilice la estructura if/else.**"
      ]
    },
    {
      "cell_type": "code",
      "execution_count": null,
      "metadata": {
        "id": "FxwX8IaiWaxq"
      },
      "outputs": [],
      "source": [
        "# Nota: La resolución de este problema no funciona en Jupyter. Sugiero usar un IDE.\n",
        "\n",
        "import sys\n",
        "\n",
        "argumentos = sys.argv[1:] if len(sys.argv) > 1 else ['2', '4', '8']  # Obtener argumentos desde la consola.\n",
        "\n",
        "if len(argumentos) == 3:  # Si hay 3 argumentos...\n",
        "    for argu in argumentos:  # Los itero\n",
        "        if es_multiplo := int(argu) % 2 == 0:  # Pregunto si cada uno es múltiplo de 2.\n",
        "            print(f\"El argumento {argu} es múltiplo de dos.\")\n",
        "        else:\n",
        "            print(f\"El argumento {argu} no es múltiplo de dos.\")\n",
        "else:\n",
        "    print(\"Error: Debes proporcionar exactamente tres argumentos numéricos.\")"
      ]
    },
    {
      "cell_type": "markdown",
      "metadata": {
        "id": "fxYb2kgCWaxw"
      },
      "source": [
        "### Ejercicio 2:\n",
        "\n",
        "Cree una lista de frutas de 2 elementos, y realice un programa que muestre una oración conteniendo los dos elementos de la lista concatenándolos con texto para formar una oración con sentido.\n",
        "\n",
        "Presente el resultado en la terminal del editor."
      ]
    },
    {
      "cell_type": "code",
      "execution_count": null,
      "metadata": {
        "id": "WGgGV2bXWaxx"
      },
      "outputs": [],
      "source": []
    },
    {
      "cell_type": "markdown",
      "source": [
        "### Ejercicio 3:\n",
        "\n",
        "Tome dos valores por consola, y guarde en una lista:\n",
        "\n",
        "[primer_valor, segundo_valor, la_suma_de_los_valores]\n",
        "\n",
        "Presente el resultado en la terminal del editor."
      ],
      "metadata": {
        "id": "lFMmuJuklV0-"
      }
    },
    {
      "cell_type": "code",
      "source": [],
      "metadata": {
        "id": "3NR3C_Ninatr"
      },
      "execution_count": null,
      "outputs": []
    },
    {
      "cell_type": "markdown",
      "metadata": {
        "id": "9WGmJgP3Waxy"
      },
      "source": [
        "### Ejercicio 4:\n",
        "\n",
        "Realice un programa que consulte la edad y en caso de que el valor ingresado supere la\n",
        "fecha de jubilación, presente en la terminal el mensaje \"Ya está en edad de jibularse\".\n",
        "\n",
        "En caso contrario que presente “Aún está en edad de trabajar\"."
      ]
    },
    {
      "cell_type": "code",
      "execution_count": null,
      "metadata": {
        "id": "Jr85HiB3Waxz"
      },
      "outputs": [],
      "source": []
    },
    {
      "cell_type": "markdown",
      "metadata": {
        "id": "4i3nqkB9Wax0"
      },
      "source": [
        "### Ejercicio 5:\n",
        "\n",
        "Realice nuevamente los ejercicios de la unidad 1 (3, 4 y 5), pero tratando de utilizar una función, de forma que la operación se realice dentro de la misma.\n",
        "\n",
        "Presente el resultado en la terminal del editor."
      ]
    },
    {
      "cell_type": "code",
      "execution_count": null,
      "metadata": {
        "id": "vqHJZVJBWax0"
      },
      "outputs": [],
      "source": []
    },
    {
      "cell_type": "code",
      "source": [],
      "metadata": {
        "id": "WZJados3nXD_"
      },
      "execution_count": null,
      "outputs": []
    },
    {
      "cell_type": "code",
      "source": [],
      "metadata": {
        "id": "5LB0nDOGnW3u"
      },
      "execution_count": null,
      "outputs": []
    }
  ],
  "metadata": {
    "kernelspec": {
      "display_name": "Python 3 (ipykernel)",
      "language": "python",
      "name": "python3"
    },
    "language_info": {
      "codemirror_mode": {
        "name": "ipython",
        "version": 3
      },
      "file_extension": ".py",
      "mimetype": "text/x-python",
      "name": "python",
      "nbconvert_exporter": "python",
      "pygments_lexer": "ipython3",
      "version": "3.11.5"
    },
    "colab": {
      "provenance": [],
      "include_colab_link": true
    }
  },
  "nbformat": 4,
  "nbformat_minor": 0
}