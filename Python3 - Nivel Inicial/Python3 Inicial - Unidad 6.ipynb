{
  "cells": [
    {
      "cell_type": "markdown",
      "metadata": {
        "id": "view-in-github",
        "colab_type": "text"
      },
      "source": [
        "<a href=\"https://colab.research.google.com/github/GonzaloMartin/UTN-Diplomatura-en-Python/blob/main/Python3%20-%20Nivel%20Inicial/Python3%20Inicial%20-%20Unidad%206.ipynb\" target=\"_parent\"><img src=\"https://colab.research.google.com/assets/colab-badge.svg\" alt=\"Open In Colab\"/></a>"
      ]
    },
    {
      "cell_type": "markdown",
      "metadata": {
        "id": "oFKlguwdWaxj"
      },
      "source": [
        "# DIPLOMATURA EN PYTHON\n",
        "\n",
        "### UNIDAD DIDÁCTICA 6\n",
        "\n",
        "- Módulo II – Nivel Inicial I.\n",
        "- Unidad VI.\n",
        "\n",
        "#### _Resueltos de [@GonzaloMartin](https://github.com/GonzaloMartin)._"
      ]
    },
    {
      "cell_type": "markdown",
      "source": [
        "## Tareas:\n",
        "\n",
        "Estas tareas pueden intentar hacerlas hasta la clase del 5/12 en donde las vamos a hacer juntos paso a paso. Es conveniente que aún cuando no las puedan realizar solos, lo intentes, consulten todas las dudas en el foro y anoten las mismas para conversar durante la clase online.\n"
      ],
      "metadata": {
        "id": "IvT_gsM8zlis"
      }
    },
    {
      "cell_type": "markdown",
      "metadata": {
        "id": "kDwGsuBiWaxp"
      },
      "source": [
        "### Tarea 1:\n",
        "\n",
        "A partir del ejercicio desafío de la unidad anterior cree una aplicación que permita realizar un alta de registros en un diccionario dentro de la app.\n"
      ]
    },
    {
      "cell_type": "code",
      "execution_count": null,
      "metadata": {
        "id": "FxwX8IaiWaxq"
      },
      "outputs": [],
      "source": [
        "from tkinter import *\n",
        "from tkinter.colorchooser import askcolor\n",
        "\n",
        "registros = {}\n",
        "\n",
        "main = Tk()\n",
        "main.title(\"Unidad 6 - Tarea 1\")\n",
        "\n",
        "l_nombre = Label(main, text=\"Nombre\")\n",
        "l_nombre.grid(row=0, column=0, sticky=\"W\")\n",
        "l_apellido = Label(main, text=\"Apellido\")\n",
        "l_apellido.grid(row=1, column=0, sticky=\"W\")\n",
        "l_pais = Label(main, text=\"País\")\n",
        "l_pais.grid(row=2, column=0, sticky=\"W\")\n",
        "\n",
        "input_nombre = Entry(main)\n",
        "input_nombre.grid(row=0, column=2)\n",
        "input_apellido = Entry(main)\n",
        "input_apellido.grid(row=1, column=2)\n",
        "input_pais = Entry(main)\n",
        "input_pais.grid(row=2, column=2)\n",
        "\n",
        "def guardar_en_diccionario():\n",
        "    nombre = input_nombre.get()\n",
        "    apellido = input_apellido.get()\n",
        "    pais = input_pais.get()\n",
        "    if nombre != \"\" and apellido != \"\" and pais != \"\":\n",
        "        registros[nombre] = {\"apellido\": apellido, \"pais\": pais}\n",
        "        imprimir(registros)\n",
        "    else:\n",
        "        print(\"Faltan datos por completar.\")\n",
        "\n",
        "def imprimir(diccionario):\n",
        "    print(diccionario)\n",
        "\n",
        "def colorear():\n",
        "    color = askcolor(title=\"Selecciona un color\")\n",
        "    main.configure(bg=color[1])\n",
        "    l_nombre.configure(bg=color[1])\n",
        "    l_apellido.configure(bg=color[1])\n",
        "    l_pais.configure(bg=color[1])\n",
        "\n",
        "btn_agregar = Button(main, text=\"Aceptar\", command=guardar_en_diccionario)\n",
        "btn_agregar.grid(row=3, column=2)\n",
        "btn_color = Button(main, text=\"Colorear\", command=colorear)\n",
        "btn_color.grid(row=3, column=3)\n",
        "main.mainloop()"
      ]
    },
    {
      "cell_type": "markdown",
      "source": [
        "### Output Tarea 1:\n",
        "\n",
        "Salida del Diccionario por consola:\n",
        "\n",
        "<img src=\"https://raw.githubusercontent.com/GonzaloMartin/UTN-Diplomatura-en-Python/main/assets/P1-U6-Tarea1.PNG\">"
      ],
      "metadata": {
        "id": "c2vSDEZ0Qhtn"
      }
    },
    {
      "cell_type": "markdown",
      "source": [
        "### Tarea 2:\n",
        "\n",
        "A partir del ejercicio desafío de la unidad anterior cree una aplicación que permita realizar un alta de registros en la base de datos (sqlite3)."
      ],
      "metadata": {
        "id": "39q0xraHnfAX"
      }
    },
    {
      "cell_type": "code",
      "source": [
        "import sqlite3\n",
        "from tkinter import *\n",
        "from tkinter.colorchooser import askcolor\n",
        "\n",
        "main = Tk()\n",
        "main.title(\"Unidad 6 - Tarea 2\")\n",
        "\n",
        "l_nombre = Label(main, text=\"Nombre\")\n",
        "l_nombre.grid(row=0, column=0, sticky=\"W\")\n",
        "l_apellido = Label(main, text=\"Apellido\")\n",
        "l_apellido.grid(row=1, column=0, sticky=\"W\")\n",
        "l_pais = Label(main, text=\"País\")\n",
        "l_pais.grid(row=2, column=0, sticky=\"W\")\n",
        "\n",
        "input_nombre = Entry(main)\n",
        "input_nombre.grid(row=0, column=2)\n",
        "input_apellido = Entry(main)\n",
        "input_apellido.grid(row=1, column=2)\n",
        "input_pais = Entry(main)\n",
        "input_pais.grid(row=2, column=2)\n",
        "\n",
        "def crear_base():\n",
        "    con = sqlite3.connect('u6-tarea-db.db')\n",
        "    return con\n",
        "\n",
        "def crear_tabla(con):\n",
        "    cursorObj = con.cursor()\n",
        "    query = \"CREATE TABLE IF NOT EXISTS personas(id integer PRIMARY KEY, nombre text, apellido text, pais text)\"\n",
        "    cursorObj.execute(query)\n",
        "    con.commit()\n",
        "\n",
        "def guardar_en_base():\n",
        "    con = crear_base()  # Crear base de datos si es que no existe.\n",
        "    crear_tabla(con)  # Crear tabla si es que no existe.\n",
        "    cursorObj = con.cursor()\n",
        "    nombre = input_nombre.get()\n",
        "    apellido = input_apellido.get()\n",
        "    pais = input_pais.get()\n",
        "    if nombre != \"\" and apellido != \"\" and pais != \"\":\n",
        "        data = (nombre, apellido, pais)\n",
        "        query = \"INSERT INTO personas (nombre, apellido, pais) VALUES(?, ?, ?);\"\n",
        "        cursorObj.execute(query, data)\n",
        "        con.commit()\n",
        "        imprimir(data)\n",
        "    else:\n",
        "        print(\"Faltan datos por completar.\")\n",
        "\n",
        "def imprimir(datos):\n",
        "    print(datos)\n",
        "\n",
        "def colorear():\n",
        "    color = askcolor(title=\"Selecciona un color\")\n",
        "    main.configure(bg=color[1])\n",
        "    l_nombre.configure(bg=color[1])\n",
        "    l_apellido.configure(bg=color[1])\n",
        "    l_pais.configure(bg=color[1])\n",
        "\n",
        "btn_agregar = Button(main, text=\"Aceptar\", command=guardar_en_base)\n",
        "btn_agregar.grid(row=3, column=2)\n",
        "btn_color = Button(main, text=\"Colorear\", command=colorear)\n",
        "btn_color.grid(row=3, column=3)\n",
        "main.mainloop()"
      ],
      "metadata": {
        "id": "eP-RTNp1oFrr"
      },
      "execution_count": null,
      "outputs": []
    },
    {
      "cell_type": "markdown",
      "source": [
        "### Output Tarea 2:\n",
        "\n",
        "Vista de consola, formulario y base de datos:\n",
        "\n",
        "<img src=\"https://raw.githubusercontent.com/GonzaloMartin/UTN-Diplomatura-en-Python/main/assets/P1-U6-Tarea2.PNG\">"
      ],
      "metadata": {
        "id": "40SxrQgFl3Uo"
      }
    },
    {
      "cell_type": "markdown",
      "source": [
        "### Tarea 3:\n",
        "\n",
        "A partir del ejercicio desafío de la unidad anterior cree una aplicación que permita realizar un alta de registros en un archivo de texto (.txt)."
      ],
      "metadata": {
        "id": "wuqKZB0FnIFM"
      }
    },
    {
      "cell_type": "code",
      "source": [
        "from tkinter import *\n",
        "from tkinter.colorchooser import askcolor\n",
        "\n",
        "main = Tk()\n",
        "main.title(\"Unidad 6 - Tarea 3\")\n",
        "\n",
        "l_nombre = Label(main, text=\"Nombre\")\n",
        "l_nombre.grid(row=0, column=0, sticky=\"W\")\n",
        "l_apellido = Label(main, text=\"Apellido\")\n",
        "l_apellido.grid(row=1, column=0, sticky=\"W\")\n",
        "l_pais = Label(main, text=\"País\")\n",
        "l_pais.grid(row=2, column=0, sticky=\"W\")\n",
        "\n",
        "input_nombre = Entry(main)\n",
        "input_nombre.grid(row=0, column=2)\n",
        "input_apellido = Entry(main)\n",
        "input_apellido.grid(row=1, column=2)\n",
        "input_pais = Entry(main)\n",
        "input_pais.grid(row=2, column=2)\n",
        "\n",
        "def guardar_en_archivo():\n",
        "    nombre = input_nombre.get()\n",
        "    apellido = input_apellido.get()\n",
        "    pais = input_pais.get()\n",
        "    if nombre != \"\" and apellido != \"\" and pais != \"\":\n",
        "        archivo = open(\"u6-tarea3.txt\", \"a\")  # Append\n",
        "        archivo.write(f\"{nombre} {apellido} {pais}\\n\")\n",
        "        archivo.close()\n",
        "        print(f\"{nombre} {apellido} {pais}\")\n",
        "    else:\n",
        "        print(\"Faltan datos por completar.\")\n",
        "\n",
        "def colorear():\n",
        "    color = askcolor(title=\"Selecciona un color\")\n",
        "    main.configure(bg=color[1])\n",
        "    l_nombre.configure(bg=color[1])\n",
        "    l_apellido.configure(bg=color[1])\n",
        "    l_pais.configure(bg=color[1])\n",
        "\n",
        "btn_agregar = Button(main, text=\"Aceptar\", command=guardar_en_archivo)\n",
        "btn_agregar.grid(row=3, column=2)\n",
        "btn_color = Button(main, text=\"Colorear\", command=colorear)\n",
        "btn_color.grid(row=3, column=3)\n",
        "main.mainloop()"
      ],
      "metadata": {
        "id": "VLLOw58SnUcp"
      },
      "execution_count": null,
      "outputs": []
    },
    {
      "cell_type": "markdown",
      "source": [
        "### Output Tarea 2:\n",
        "\n",
        "Vista de consola, formulario y base de datos:\n",
        "\n",
        "<img src=\"https://raw.githubusercontent.com/GonzaloMartin/UTN-Diplomatura-en-Python/main/assets/P1-U6-Tarea3.PNG\">"
      ],
      "metadata": {
        "id": "KX9u9ECInV73"
      }
    }
  ],
  "metadata": {
    "kernelspec": {
      "display_name": "Python 3 (ipykernel)",
      "language": "python",
      "name": "python3"
    },
    "language_info": {
      "codemirror_mode": {
        "name": "ipython",
        "version": 3
      },
      "file_extension": ".py",
      "mimetype": "text/x-python",
      "name": "python",
      "nbconvert_exporter": "python",
      "pygments_lexer": "ipython3",
      "version": "3.11.5"
    },
    "colab": {
      "provenance": [],
      "toc_visible": true,
      "include_colab_link": true
    }
  },
  "nbformat": 4,
  "nbformat_minor": 0
}