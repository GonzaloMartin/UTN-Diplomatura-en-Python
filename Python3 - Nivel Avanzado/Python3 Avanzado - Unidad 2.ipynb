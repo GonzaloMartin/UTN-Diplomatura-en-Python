{
  "cells": [
    {
      "cell_type": "markdown",
      "metadata": {
        "id": "view-in-github",
        "colab_type": "text"
      },
      "source": [
        "<a href=\"https://colab.research.google.com/github/GonzaloMartin/UTN-Diplomatura-en-Python/blob/main/Python3%20-%20Nivel%20Avanzado/Python3%20Avanzado%20-%20Unidad%202.ipynb\" target=\"_parent\"><img src=\"https://colab.research.google.com/assets/colab-badge.svg\" alt=\"Open In Colab\"/></a>"
      ]
    },
    {
      "cell_type": "markdown",
      "metadata": {
        "id": "oFKlguwdWaxj"
      },
      "source": [
        "# DIPLOMATURA EN PYTHON\n",
        "\n",
        "### UNIDAD DIDÁCTICA 1\n",
        "\n",
        "- Módulo I – Nivel Avanzado.\n",
        "\n",
        "#### _Resueltos de [@GonzaloMartin](https://github.com/GonzaloMartin)._"
      ]
    },
    {
      "cell_type": "markdown",
      "source": [
        "## Práctica:\n",
        "\n"
      ],
      "metadata": {
        "id": "IvT_gsM8zlis"
      }
    },
    {
      "cell_type": "markdown",
      "source": [
        "### Ejercicio:\n",
        "\n",
        "Crear una clase que registre datos personales de empleados, como:\n",
        "\n",
        "- Nombre.\n",
        "- Edad.\n",
        "- Salario.\n",
        "- Etc.\n",
        "\n",
        "Crear un descriptor que permita cuando se ingresa el valor de la edad de la persona lanzar una excepción si el valor es negativo o que informe cuando la persona está a un año de la edad de jubilación."
      ],
      "metadata": {
        "id": "i2Rk2Jd2CE7p"
      }
    },
    {
      "cell_type": "markdown",
      "source": [
        "### Resolución:"
      ],
      "metadata": {
        "id": "6y49XEv_wicK"
      }
    },
    {
      "cell_type": "code",
      "source": [
        "class ValidadorEdad:\n",
        "    # Descriptor\n",
        "\n",
        "    def __set_name__(self, owner, name):\n",
        "        self.name = name\n",
        "\n",
        "    def __get__(self, instance, owner):\n",
        "        return instance.__dict__[self.name]\n",
        "\n",
        "    def __set__(self, instance, value):\n",
        "        if not isinstance(value, int):\n",
        "            raise ValueError(\"La edad debe ser un número entero.\")\n",
        "        if value < 0:\n",
        "            raise ValueError(\"La edad no puede ser un número negativo.\")\n",
        "        if value == instance.edad_jubilacion - 1:\n",
        "            print(\"La persona está a un año de la edad de jubilación.\")\n",
        "        instance.__dict__[self.name] = value\n",
        "\n",
        "class Empleado:\n",
        "    edad_jubilacion = 65  # Edad de jubilación por defecto\n",
        "\n",
        "    def __init__(self, nombre, edad, salario):\n",
        "        self.nombre = nombre\n",
        "        self.edad = edad\n",
        "        self.salario = salario\n",
        "\n",
        "    edad = ValidadorEdad()\n",
        "\n",
        "try:\n",
        "    emp1 = Empleado(nombre=\"Gonzalo\", edad=30, salario=50000)\n",
        "    emp1.edad = 64  # Descriptor __set__\n",
        "    emp1.edad = -5  # ValueError\n",
        "except ValueError as e:\n",
        "    print(e)\n"
      ],
      "metadata": {
        "id": "d3n8AOaGBMyV",
        "outputId": "208de1a4-266e-4de4-bdd1-ab3252704d91",
        "colab": {
          "base_uri": "https://localhost:8080/"
        }
      },
      "execution_count": 6,
      "outputs": [
        {
          "output_type": "stream",
          "name": "stdout",
          "text": [
            "La persona está a un año de la edad de jubilación.\n",
            "La edad no puede ser un número negativo.\n"
          ]
        }
      ]
    }
  ],
  "metadata": {
    "kernelspec": {
      "display_name": "Python 3 (ipykernel)",
      "language": "python",
      "name": "python3"
    },
    "language_info": {
      "codemirror_mode": {
        "name": "ipython",
        "version": 3
      },
      "file_extension": ".py",
      "mimetype": "text/x-python",
      "name": "python",
      "nbconvert_exporter": "python",
      "pygments_lexer": "ipython3",
      "version": "3.11.5"
    },
    "colab": {
      "provenance": [],
      "toc_visible": true,
      "include_colab_link": true
    }
  },
  "nbformat": 4,
  "nbformat_minor": 0
}